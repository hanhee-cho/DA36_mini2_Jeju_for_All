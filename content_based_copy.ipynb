{
 "cells": [
  {
   "metadata": {
    "ExecuteTime": {
     "end_time": "2024-11-08T02:56:08.716120Z",
     "start_time": "2024-11-08T02:56:08.713153Z"
    }
   },
   "cell_type": "code",
   "source": [
    "import numpy as np\n",
    "import pandas as pd\n",
    "import matplotlib.pyplot as plt\n",
    "import matplotlib\n",
    "import matplotlib.font_manager as fm"
   ],
   "id": "ee5bcfcb0efda0c1",
   "outputs": [],
   "execution_count": 1
  },
  {
   "metadata": {
    "ExecuteTime": {
     "end_time": "2024-11-08T03:00:03.373011Z",
     "start_time": "2024-11-08T03:00:03.352550Z"
    }
   },
   "cell_type": "code",
   "source": "df = pd.read_csv('./data/main_data.csv')",
   "id": "8772ea88182de6d7",
   "outputs": [],
   "execution_count": 2
  },
  {
   "cell_type": "code",
   "id": "initial_id",
   "metadata": {
    "collapsed": true,
    "ExecuteTime": {
     "end_time": "2024-11-08T03:00:05.348237Z",
     "start_time": "2024-11-08T03:00:05.331449Z"
    }
   },
   "source": [
    "import unicodedata\n",
    "\n",
    "# 유니코드 정규화 후 고유 값 확인\n",
    "df['CTGRY_THREE_NM'] = df['CTGRY_THREE_NM'].apply(lambda x: unicodedata.normalize('NFKC', x))\n",
    "unique_values_three = df['CTGRY_THREE_NM'].unique()\n",
    "unique_count_three = len(unique_values_three)\n",
    "\n",
    "# 유니코드 정규화 후 고유 값 확인\n",
    "df['CTGRY_TWO_NM'] = df['CTGRY_TWO_NM'].apply(lambda x: unicodedata.normalize('NFKC', x))\n",
    "unique_values_two = df['CTGRY_TWO_NM'].unique()\n",
    "unique_count_two = len(unique_values_two)\n",
    "\n",
    "# 유니코드 정규화 후 고유 값 확인\n",
    "df['CTGRY_ONE_NM'] = df['CTGRY_ONE_NM'].apply(lambda x: unicodedata.normalize('NFKC', x))\n",
    "unique_values_one = df['CTGRY_ONE_NM'].unique()\n",
    "unique_count_one = len(unique_values_one)\n"
   ],
   "outputs": [],
   "execution_count": 3
  },
  {
   "metadata": {
    "ExecuteTime": {
     "end_time": "2024-11-08T03:00:07.212555Z",
     "start_time": "2024-11-08T03:00:07.205243Z"
    }
   },
   "cell_type": "code",
   "source": [
    "unique_values_list = list(unique_values_one) + list(unique_values_two) + list(unique_values_three)\n",
    "print(unique_values_list[0])"
   ],
   "id": "fe9c8cfe1705a8a4",
   "outputs": [
    {
     "name": "stdout",
     "output_type": "stream",
     "text": [
      "문화관광/명소\n"
     ]
    }
   ],
   "execution_count": 4
  },
  {
   "metadata": {
    "ExecuteTime": {
     "end_time": "2024-11-08T03:00:49.065179Z",
     "start_time": "2024-11-08T03:00:48.929514Z"
    }
   },
   "cell_type": "code",
   "source": [
    "import pandas as pd\n",
    "from gensim.models.fasttext import load_facebook_model\n",
    "from itertools import combinations\n",
    "from sklearn.metrics.pairwise import cosine_similarity\n",
    "from gensim.models import KeyedVectors\n",
    "from gensim.models import fasttext"
   ],
   "id": "f7e53bf4c82448b",
   "outputs": [
    {
     "ename": "ImportError",
     "evalue": "cannot import name 'triu' from 'scipy.linalg' (C:\\Users\\playdata\\miniconda3\\envs\\ml_env\\Lib\\site-packages\\scipy\\linalg\\__init__.py)",
     "output_type": "error",
     "traceback": [
      "\u001B[1;31m---------------------------------------------------------------------------\u001B[0m",
      "\u001B[1;31mImportError\u001B[0m                               Traceback (most recent call last)",
      "Cell \u001B[1;32mIn[7], line 2\u001B[0m\n\u001B[0;32m      1\u001B[0m \u001B[38;5;28;01mimport\u001B[39;00m \u001B[38;5;21;01mpandas\u001B[39;00m \u001B[38;5;28;01mas\u001B[39;00m \u001B[38;5;21;01mpd\u001B[39;00m\n\u001B[1;32m----> 2\u001B[0m \u001B[38;5;28;01mfrom\u001B[39;00m \u001B[38;5;21;01mgensim\u001B[39;00m\u001B[38;5;21;01m.\u001B[39;00m\u001B[38;5;21;01mmodels\u001B[39;00m\u001B[38;5;21;01m.\u001B[39;00m\u001B[38;5;21;01mfasttext\u001B[39;00m \u001B[38;5;28;01mimport\u001B[39;00m load_facebook_model\n\u001B[0;32m      3\u001B[0m \u001B[38;5;28;01mfrom\u001B[39;00m \u001B[38;5;21;01mitertools\u001B[39;00m \u001B[38;5;28;01mimport\u001B[39;00m combinations\n\u001B[0;32m      4\u001B[0m \u001B[38;5;28;01mfrom\u001B[39;00m \u001B[38;5;21;01msklearn\u001B[39;00m\u001B[38;5;21;01m.\u001B[39;00m\u001B[38;5;21;01mmetrics\u001B[39;00m\u001B[38;5;21;01m.\u001B[39;00m\u001B[38;5;21;01mpairwise\u001B[39;00m \u001B[38;5;28;01mimport\u001B[39;00m cosine_similarity\n",
      "File \u001B[1;32m~\\miniconda3\\envs\\ml_env\\Lib\\site-packages\\gensim\\__init__.py:11\u001B[0m\n\u001B[0;32m      7\u001B[0m __version__ \u001B[38;5;241m=\u001B[39m \u001B[38;5;124m'\u001B[39m\u001B[38;5;124m4.3.2\u001B[39m\u001B[38;5;124m'\u001B[39m\n\u001B[0;32m      9\u001B[0m \u001B[38;5;28;01mimport\u001B[39;00m \u001B[38;5;21;01mlogging\u001B[39;00m\n\u001B[1;32m---> 11\u001B[0m \u001B[38;5;28;01mfrom\u001B[39;00m \u001B[38;5;21;01mgensim\u001B[39;00m \u001B[38;5;28;01mimport\u001B[39;00m parsing, corpora, matutils, interfaces, models, similarities, utils  \u001B[38;5;66;03m# noqa:F401\u001B[39;00m\n\u001B[0;32m     14\u001B[0m logger \u001B[38;5;241m=\u001B[39m logging\u001B[38;5;241m.\u001B[39mgetLogger(\u001B[38;5;124m'\u001B[39m\u001B[38;5;124mgensim\u001B[39m\u001B[38;5;124m'\u001B[39m)\n\u001B[0;32m     15\u001B[0m \u001B[38;5;28;01mif\u001B[39;00m \u001B[38;5;129;01mnot\u001B[39;00m logger\u001B[38;5;241m.\u001B[39mhandlers:  \u001B[38;5;66;03m# To ensure reload() doesn't add another one\u001B[39;00m\n",
      "File \u001B[1;32m~\\miniconda3\\envs\\ml_env\\Lib\\site-packages\\gensim\\corpora\\__init__.py:6\u001B[0m\n\u001B[0;32m      1\u001B[0m \u001B[38;5;124;03m\"\"\"\u001B[39;00m\n\u001B[0;32m      2\u001B[0m \u001B[38;5;124;03mThis package contains implementations of various streaming corpus I/O format.\u001B[39;00m\n\u001B[0;32m      3\u001B[0m \u001B[38;5;124;03m\"\"\"\u001B[39;00m\n\u001B[0;32m      5\u001B[0m \u001B[38;5;66;03m# bring corpus classes directly into package namespace, to save some typing\u001B[39;00m\n\u001B[1;32m----> 6\u001B[0m \u001B[38;5;28;01mfrom\u001B[39;00m \u001B[38;5;21;01m.\u001B[39;00m\u001B[38;5;21;01mindexedcorpus\u001B[39;00m \u001B[38;5;28;01mimport\u001B[39;00m IndexedCorpus  \u001B[38;5;66;03m# noqa:F401 must appear before the other classes\u001B[39;00m\n\u001B[0;32m      8\u001B[0m \u001B[38;5;28;01mfrom\u001B[39;00m \u001B[38;5;21;01m.\u001B[39;00m\u001B[38;5;21;01mmmcorpus\u001B[39;00m \u001B[38;5;28;01mimport\u001B[39;00m MmCorpus  \u001B[38;5;66;03m# noqa:F401\u001B[39;00m\n\u001B[0;32m      9\u001B[0m \u001B[38;5;28;01mfrom\u001B[39;00m \u001B[38;5;21;01m.\u001B[39;00m\u001B[38;5;21;01mbleicorpus\u001B[39;00m \u001B[38;5;28;01mimport\u001B[39;00m BleiCorpus  \u001B[38;5;66;03m# noqa:F401\u001B[39;00m\n",
      "File \u001B[1;32m~\\miniconda3\\envs\\ml_env\\Lib\\site-packages\\gensim\\corpora\\indexedcorpus.py:14\u001B[0m\n\u001B[0;32m     10\u001B[0m \u001B[38;5;28;01mimport\u001B[39;00m \u001B[38;5;21;01mlogging\u001B[39;00m\n\u001B[0;32m     12\u001B[0m \u001B[38;5;28;01mimport\u001B[39;00m \u001B[38;5;21;01mnumpy\u001B[39;00m\n\u001B[1;32m---> 14\u001B[0m \u001B[38;5;28;01mfrom\u001B[39;00m \u001B[38;5;21;01mgensim\u001B[39;00m \u001B[38;5;28;01mimport\u001B[39;00m interfaces, utils\n\u001B[0;32m     16\u001B[0m logger \u001B[38;5;241m=\u001B[39m logging\u001B[38;5;241m.\u001B[39mgetLogger(\u001B[38;5;18m__name__\u001B[39m)\n\u001B[0;32m     19\u001B[0m \u001B[38;5;28;01mclass\u001B[39;00m \u001B[38;5;21;01mIndexedCorpus\u001B[39;00m(interfaces\u001B[38;5;241m.\u001B[39mCorpusABC):\n",
      "File \u001B[1;32m~\\miniconda3\\envs\\ml_env\\Lib\\site-packages\\gensim\\interfaces.py:19\u001B[0m\n\u001B[0;32m      7\u001B[0m \u001B[38;5;124;03m\"\"\"Basic interfaces used across the whole Gensim package.\u001B[39;00m\n\u001B[0;32m      8\u001B[0m \n\u001B[0;32m      9\u001B[0m \u001B[38;5;124;03mThese interfaces are used for building corpora, model transformation and similarity queries.\u001B[39;00m\n\u001B[1;32m   (...)\u001B[0m\n\u001B[0;32m     14\u001B[0m \n\u001B[0;32m     15\u001B[0m \u001B[38;5;124;03m\"\"\"\u001B[39;00m\n\u001B[0;32m     17\u001B[0m \u001B[38;5;28;01mimport\u001B[39;00m \u001B[38;5;21;01mlogging\u001B[39;00m\n\u001B[1;32m---> 19\u001B[0m \u001B[38;5;28;01mfrom\u001B[39;00m \u001B[38;5;21;01mgensim\u001B[39;00m \u001B[38;5;28;01mimport\u001B[39;00m utils, matutils\n\u001B[0;32m     22\u001B[0m logger \u001B[38;5;241m=\u001B[39m logging\u001B[38;5;241m.\u001B[39mgetLogger(\u001B[38;5;18m__name__\u001B[39m)\n\u001B[0;32m     25\u001B[0m \u001B[38;5;28;01mclass\u001B[39;00m \u001B[38;5;21;01mCorpusABC\u001B[39;00m(utils\u001B[38;5;241m.\u001B[39mSaveLoad):\n",
      "File \u001B[1;32m~\\miniconda3\\envs\\ml_env\\Lib\\site-packages\\gensim\\matutils.py:20\u001B[0m\n\u001B[0;32m     18\u001B[0m \u001B[38;5;28;01mimport\u001B[39;00m \u001B[38;5;21;01mscipy\u001B[39;00m\u001B[38;5;21;01m.\u001B[39;00m\u001B[38;5;21;01msparse\u001B[39;00m\n\u001B[0;32m     19\u001B[0m \u001B[38;5;28;01mfrom\u001B[39;00m \u001B[38;5;21;01mscipy\u001B[39;00m\u001B[38;5;21;01m.\u001B[39;00m\u001B[38;5;21;01mstats\u001B[39;00m \u001B[38;5;28;01mimport\u001B[39;00m entropy\n\u001B[1;32m---> 20\u001B[0m \u001B[38;5;28;01mfrom\u001B[39;00m \u001B[38;5;21;01mscipy\u001B[39;00m\u001B[38;5;21;01m.\u001B[39;00m\u001B[38;5;21;01mlinalg\u001B[39;00m \u001B[38;5;28;01mimport\u001B[39;00m get_blas_funcs, triu\n\u001B[0;32m     21\u001B[0m \u001B[38;5;28;01mfrom\u001B[39;00m \u001B[38;5;21;01mscipy\u001B[39;00m\u001B[38;5;21;01m.\u001B[39;00m\u001B[38;5;21;01mlinalg\u001B[39;00m\u001B[38;5;21;01m.\u001B[39;00m\u001B[38;5;21;01mlapack\u001B[39;00m \u001B[38;5;28;01mimport\u001B[39;00m get_lapack_funcs\n\u001B[0;32m     22\u001B[0m \u001B[38;5;28;01mfrom\u001B[39;00m \u001B[38;5;21;01mscipy\u001B[39;00m\u001B[38;5;21;01m.\u001B[39;00m\u001B[38;5;21;01mspecial\u001B[39;00m \u001B[38;5;28;01mimport\u001B[39;00m psi  \u001B[38;5;66;03m# gamma function utils\u001B[39;00m\n",
      "\u001B[1;31mImportError\u001B[0m: cannot import name 'triu' from 'scipy.linalg' (C:\\Users\\playdata\\miniconda3\\envs\\ml_env\\Lib\\site-packages\\scipy\\linalg\\__init__.py)"
     ]
    }
   ],
   "execution_count": 7
  },
  {
   "metadata": {
    "ExecuteTime": {
     "end_time": "2024-11-08T03:00:52.339498Z",
     "start_time": "2024-11-08T03:00:52.319233Z"
    }
   },
   "cell_type": "code",
   "source": [
    "#fastText 모델 로드 (Facebook 라이브러리 사용)\n",
    "model = fasttext.load_model('./data/cc.ko.300.bin')\n",
    "\n",
    "#KeyedVectors 객체 생성\n",
    "kv_model = KeyedVectors(vector_size=model.get_dimension())\n",
    "\n",
    "#필요한 단어 벡터만 추가\n",
    "for word in unique_values_list:\n",
    "    kv_model.add_vector(word, model.get_word_vector(word))\n",
    "\n",
    "#KeyedVectors 형식으로 저장\n",
    "kv_model.save(\"small_fasttext_model.kv\")"
   ],
   "id": "faccccad6778e5b7",
   "outputs": [
    {
     "ename": "NameError",
     "evalue": "name 'fasttext' is not defined",
     "output_type": "error",
     "traceback": [
      "\u001B[1;31m---------------------------------------------------------------------------\u001B[0m",
      "\u001B[1;31mNameError\u001B[0m                                 Traceback (most recent call last)",
      "Cell \u001B[1;32mIn[8], line 2\u001B[0m\n\u001B[0;32m      1\u001B[0m \u001B[38;5;66;03m#fastText 모델 로드 (Facebook 라이브러리 사용)\u001B[39;00m\n\u001B[1;32m----> 2\u001B[0m model \u001B[38;5;241m=\u001B[39m \u001B[43mfasttext\u001B[49m\u001B[38;5;241m.\u001B[39mload_model(\u001B[38;5;124m'\u001B[39m\u001B[38;5;124m./data/cc.ko.300.bin\u001B[39m\u001B[38;5;124m'\u001B[39m)\n\u001B[0;32m      4\u001B[0m \u001B[38;5;66;03m#KeyedVectors 객체 생성\u001B[39;00m\n\u001B[0;32m      5\u001B[0m kv_model \u001B[38;5;241m=\u001B[39m KeyedVectors(vector_size\u001B[38;5;241m=\u001B[39mmodel\u001B[38;5;241m.\u001B[39mget_dimension())\n",
      "\u001B[1;31mNameError\u001B[0m: name 'fasttext' is not defined"
     ]
    }
   ],
   "execution_count": 8
  },
  {
   "metadata": {
    "ExecuteTime": {
     "end_time": "2024-11-08T02:53:27.473096Z",
     "start_time": "2024-11-08T02:53:27.456114Z"
    }
   },
   "cell_type": "code",
   "source": [
    "# 빈 DataFrame 생성 (인덱스와 컬럼은 단어 리스트로 설정)\n",
    "kv_model = KeyedVectors.load(\"./data/small_fasttext_model.kv\")\n",
    "ct_sim = pd.DataFrame(index=unique_values_three, columns=unique_values_three)\n",
    "\n",
    "# 모든 단어 쌍에 대해 유사도 계산\n",
    "for word1 in unique_values_three:\n",
    "    for word2 in unique_values_three:\n",
    "        # 두 단어가 모두 모델에 있을 때만 유사도 계산\n",
    "        if word1 in kv_model and word2 in kv_model:\n",
    "            # 벡터 추출\n",
    "            vec1 = kv_model[word1].reshape(1, -1)\n",
    "            vec2 = kv_model[word2].reshape(1, -1)\n",
    "            # 코사인 유사도 계산\n",
    "            similarity = cosine_similarity(vec1, vec2)[0][0]\n",
    "            ct_sim.loc[word1, word2] = similarity\n",
    "        else:\n",
    "            ct_sim.loc[word1, word2] = np.nan  # 모델에 없는 단어는 NaN 처리\n",
    "\n",
    "display(ct_sim)"
   ],
   "id": "90c56392ca8cef0e",
   "outputs": [
    {
     "ename": "NameError",
     "evalue": "name 'KeyedVectors' is not defined",
     "output_type": "error",
     "traceback": [
      "\u001B[1;31m---------------------------------------------------------------------------\u001B[0m",
      "\u001B[1;31mNameError\u001B[0m                                 Traceback (most recent call last)",
      "Cell \u001B[1;32mIn[39], line 2\u001B[0m\n\u001B[0;32m      1\u001B[0m \u001B[38;5;66;03m# 빈 DataFrame 생성 (인덱스와 컬럼은 단어 리스트로 설정)\u001B[39;00m\n\u001B[1;32m----> 2\u001B[0m kv_model \u001B[38;5;241m=\u001B[39m \u001B[43mKeyedVectors\u001B[49m\u001B[38;5;241m.\u001B[39mload(\u001B[38;5;124m\"\u001B[39m\u001B[38;5;124m./data/small_fasttext_model.kv\u001B[39m\u001B[38;5;124m\"\u001B[39m)\n\u001B[0;32m      3\u001B[0m ct_sim \u001B[38;5;241m=\u001B[39m pd\u001B[38;5;241m.\u001B[39mDataFrame(index\u001B[38;5;241m=\u001B[39munique_values_three, columns\u001B[38;5;241m=\u001B[39munique_values_three)\n\u001B[0;32m      5\u001B[0m \u001B[38;5;66;03m# 모든 단어 쌍에 대해 유사도 계산\u001B[39;00m\n",
      "\u001B[1;31mNameError\u001B[0m: name 'KeyedVectors' is not defined"
     ]
    }
   ],
   "execution_count": 39
  },
  {
   "metadata": {
    "ExecuteTime": {
     "end_time": "2024-11-07T08:49:23.837231Z",
     "start_time": "2024-11-07T08:49:23.799882Z"
    }
   },
   "cell_type": "code",
   "source": [
    "train_df=pd.read_csv('./data/train_df.csv')\n",
    "train_df"
   ],
   "id": "1c94b38e60c2c0fe",
   "outputs": [
    {
     "data": {
      "text/plain": [
       "      TRAVEL_ID GENDER  AGE_GRP  FCLTY_ID      FCLTY_NM CTGRY_ONE_NM  \\\n",
       "0     h_h000009      남       40         1        9.81파크      문화관광/명소   \n",
       "1     h_h000172      남       20         1        9.81파크      문화관광/명소   \n",
       "2     h_h000203      남       20         1        9.81파크      문화관광/명소   \n",
       "3     h_h000233      여       30         1        9.81파크      문화관광/명소   \n",
       "4     h_h000263      여       40         1        9.81파크      문화관광/명소   \n",
       "...         ...    ...      ...       ...           ...          ...   \n",
       "1997  h_h000078      여       40       519  ICC제주국제컨벤션센터        전시/공연   \n",
       "1998  h_h000870      남       30       519  ICC제주국제컨벤션센터        전시/공연   \n",
       "1999  h_h002119      남       30       519  ICC제주국제컨벤션센터        전시/공연   \n",
       "2000  h_h002873      여       30       519  ICC제주국제컨벤션센터        전시/공연   \n",
       "2001  h_h006612      남       50       519  ICC제주국제컨벤션센터        전시/공연   \n",
       "\n",
       "     CTGRY_TWO_NM CTGRY_THREE_NM  DGSTFN  TRAVEL_STYL_1  TRAVEL_STYL_2  \\\n",
       "0             관광지    테마공원/대형놀이공원     5.0              3              2   \n",
       "1             관광지    테마공원/대형놀이공원     5.0              3              3   \n",
       "2             관광지    테마공원/대형놀이공원     5.0              2              1   \n",
       "3             관광지    테마공원/대형놀이공원     5.0              2              1   \n",
       "4             관광지    테마공원/대형놀이공원     5.0              4              2   \n",
       "...           ...            ...     ...            ...            ...   \n",
       "1997       전시/기념관          컨벤션센터     4.0              6              2   \n",
       "1998       전시/기념관          컨벤션센터     5.0              2              3   \n",
       "1999       전시/기념관          컨벤션센터     4.0              6              1   \n",
       "2000       전시/기념관          컨벤션센터     3.0              2              2   \n",
       "2001       전시/기념관          컨벤션센터     4.0              5              2   \n",
       "\n",
       "      TRAVEL_STYL_3  TRAVEL_STYL_4  TRAVEL_STYL_5  TRAVEL_STYL_6  \\\n",
       "0                 3              3              3              5   \n",
       "1                 2              5              2              3   \n",
       "2                 1              4              6              4   \n",
       "3                 2              1              5              3   \n",
       "4                 2              2              4              4   \n",
       "...             ...            ...            ...            ...   \n",
       "1997              6              3              5              2   \n",
       "1998              5              3              3              2   \n",
       "1999              1              7              7              7   \n",
       "2000              7              4              5              3   \n",
       "2001              3              2              2              4   \n",
       "\n",
       "      TRAVEL_STYL_7  TRAVEL_STYL_8  TRAVEL_COMPANIONS_NUM  \n",
       "0                 2              6                      1  \n",
       "1                 2              6                      1  \n",
       "2                 2              6                      3  \n",
       "3                 3              7                      1  \n",
       "4                 4              4                      2  \n",
       "...             ...            ...                    ...  \n",
       "1997              7              5                      4  \n",
       "1998              5              7                      0  \n",
       "1999              1              7                      3  \n",
       "2000              6              2                      1  \n",
       "2001              2              6                      1  \n",
       "\n",
       "[2002 rows x 18 columns]"
      ],
      "text/html": [
       "<div>\n",
       "<style scoped>\n",
       "    .dataframe tbody tr th:only-of-type {\n",
       "        vertical-align: middle;\n",
       "    }\n",
       "\n",
       "    .dataframe tbody tr th {\n",
       "        vertical-align: top;\n",
       "    }\n",
       "\n",
       "    .dataframe thead th {\n",
       "        text-align: right;\n",
       "    }\n",
       "</style>\n",
       "<table border=\"1\" class=\"dataframe\">\n",
       "  <thead>\n",
       "    <tr style=\"text-align: right;\">\n",
       "      <th></th>\n",
       "      <th>TRAVEL_ID</th>\n",
       "      <th>GENDER</th>\n",
       "      <th>AGE_GRP</th>\n",
       "      <th>FCLTY_ID</th>\n",
       "      <th>FCLTY_NM</th>\n",
       "      <th>CTGRY_ONE_NM</th>\n",
       "      <th>CTGRY_TWO_NM</th>\n",
       "      <th>CTGRY_THREE_NM</th>\n",
       "      <th>DGSTFN</th>\n",
       "      <th>TRAVEL_STYL_1</th>\n",
       "      <th>TRAVEL_STYL_2</th>\n",
       "      <th>TRAVEL_STYL_3</th>\n",
       "      <th>TRAVEL_STYL_4</th>\n",
       "      <th>TRAVEL_STYL_5</th>\n",
       "      <th>TRAVEL_STYL_6</th>\n",
       "      <th>TRAVEL_STYL_7</th>\n",
       "      <th>TRAVEL_STYL_8</th>\n",
       "      <th>TRAVEL_COMPANIONS_NUM</th>\n",
       "    </tr>\n",
       "  </thead>\n",
       "  <tbody>\n",
       "    <tr>\n",
       "      <th>0</th>\n",
       "      <td>h_h000009</td>\n",
       "      <td>남</td>\n",
       "      <td>40</td>\n",
       "      <td>1</td>\n",
       "      <td>9.81파크</td>\n",
       "      <td>문화관광/명소</td>\n",
       "      <td>관광지</td>\n",
       "      <td>테마공원/대형놀이공원</td>\n",
       "      <td>5.0</td>\n",
       "      <td>3</td>\n",
       "      <td>2</td>\n",
       "      <td>3</td>\n",
       "      <td>3</td>\n",
       "      <td>3</td>\n",
       "      <td>5</td>\n",
       "      <td>2</td>\n",
       "      <td>6</td>\n",
       "      <td>1</td>\n",
       "    </tr>\n",
       "    <tr>\n",
       "      <th>1</th>\n",
       "      <td>h_h000172</td>\n",
       "      <td>남</td>\n",
       "      <td>20</td>\n",
       "      <td>1</td>\n",
       "      <td>9.81파크</td>\n",
       "      <td>문화관광/명소</td>\n",
       "      <td>관광지</td>\n",
       "      <td>테마공원/대형놀이공원</td>\n",
       "      <td>5.0</td>\n",
       "      <td>3</td>\n",
       "      <td>3</td>\n",
       "      <td>2</td>\n",
       "      <td>5</td>\n",
       "      <td>2</td>\n",
       "      <td>3</td>\n",
       "      <td>2</td>\n",
       "      <td>6</td>\n",
       "      <td>1</td>\n",
       "    </tr>\n",
       "    <tr>\n",
       "      <th>2</th>\n",
       "      <td>h_h000203</td>\n",
       "      <td>남</td>\n",
       "      <td>20</td>\n",
       "      <td>1</td>\n",
       "      <td>9.81파크</td>\n",
       "      <td>문화관광/명소</td>\n",
       "      <td>관광지</td>\n",
       "      <td>테마공원/대형놀이공원</td>\n",
       "      <td>5.0</td>\n",
       "      <td>2</td>\n",
       "      <td>1</td>\n",
       "      <td>1</td>\n",
       "      <td>4</td>\n",
       "      <td>6</td>\n",
       "      <td>4</td>\n",
       "      <td>2</td>\n",
       "      <td>6</td>\n",
       "      <td>3</td>\n",
       "    </tr>\n",
       "    <tr>\n",
       "      <th>3</th>\n",
       "      <td>h_h000233</td>\n",
       "      <td>여</td>\n",
       "      <td>30</td>\n",
       "      <td>1</td>\n",
       "      <td>9.81파크</td>\n",
       "      <td>문화관광/명소</td>\n",
       "      <td>관광지</td>\n",
       "      <td>테마공원/대형놀이공원</td>\n",
       "      <td>5.0</td>\n",
       "      <td>2</td>\n",
       "      <td>1</td>\n",
       "      <td>2</td>\n",
       "      <td>1</td>\n",
       "      <td>5</td>\n",
       "      <td>3</td>\n",
       "      <td>3</td>\n",
       "      <td>7</td>\n",
       "      <td>1</td>\n",
       "    </tr>\n",
       "    <tr>\n",
       "      <th>4</th>\n",
       "      <td>h_h000263</td>\n",
       "      <td>여</td>\n",
       "      <td>40</td>\n",
       "      <td>1</td>\n",
       "      <td>9.81파크</td>\n",
       "      <td>문화관광/명소</td>\n",
       "      <td>관광지</td>\n",
       "      <td>테마공원/대형놀이공원</td>\n",
       "      <td>5.0</td>\n",
       "      <td>4</td>\n",
       "      <td>2</td>\n",
       "      <td>2</td>\n",
       "      <td>2</td>\n",
       "      <td>4</td>\n",
       "      <td>4</td>\n",
       "      <td>4</td>\n",
       "      <td>4</td>\n",
       "      <td>2</td>\n",
       "    </tr>\n",
       "    <tr>\n",
       "      <th>...</th>\n",
       "      <td>...</td>\n",
       "      <td>...</td>\n",
       "      <td>...</td>\n",
       "      <td>...</td>\n",
       "      <td>...</td>\n",
       "      <td>...</td>\n",
       "      <td>...</td>\n",
       "      <td>...</td>\n",
       "      <td>...</td>\n",
       "      <td>...</td>\n",
       "      <td>...</td>\n",
       "      <td>...</td>\n",
       "      <td>...</td>\n",
       "      <td>...</td>\n",
       "      <td>...</td>\n",
       "      <td>...</td>\n",
       "      <td>...</td>\n",
       "      <td>...</td>\n",
       "    </tr>\n",
       "    <tr>\n",
       "      <th>1997</th>\n",
       "      <td>h_h000078</td>\n",
       "      <td>여</td>\n",
       "      <td>40</td>\n",
       "      <td>519</td>\n",
       "      <td>ICC제주국제컨벤션센터</td>\n",
       "      <td>전시/공연</td>\n",
       "      <td>전시/기념관</td>\n",
       "      <td>컨벤션센터</td>\n",
       "      <td>4.0</td>\n",
       "      <td>6</td>\n",
       "      <td>2</td>\n",
       "      <td>6</td>\n",
       "      <td>3</td>\n",
       "      <td>5</td>\n",
       "      <td>2</td>\n",
       "      <td>7</td>\n",
       "      <td>5</td>\n",
       "      <td>4</td>\n",
       "    </tr>\n",
       "    <tr>\n",
       "      <th>1998</th>\n",
       "      <td>h_h000870</td>\n",
       "      <td>남</td>\n",
       "      <td>30</td>\n",
       "      <td>519</td>\n",
       "      <td>ICC제주국제컨벤션센터</td>\n",
       "      <td>전시/공연</td>\n",
       "      <td>전시/기념관</td>\n",
       "      <td>컨벤션센터</td>\n",
       "      <td>5.0</td>\n",
       "      <td>2</td>\n",
       "      <td>3</td>\n",
       "      <td>5</td>\n",
       "      <td>3</td>\n",
       "      <td>3</td>\n",
       "      <td>2</td>\n",
       "      <td>5</td>\n",
       "      <td>7</td>\n",
       "      <td>0</td>\n",
       "    </tr>\n",
       "    <tr>\n",
       "      <th>1999</th>\n",
       "      <td>h_h002119</td>\n",
       "      <td>남</td>\n",
       "      <td>30</td>\n",
       "      <td>519</td>\n",
       "      <td>ICC제주국제컨벤션센터</td>\n",
       "      <td>전시/공연</td>\n",
       "      <td>전시/기념관</td>\n",
       "      <td>컨벤션센터</td>\n",
       "      <td>4.0</td>\n",
       "      <td>6</td>\n",
       "      <td>1</td>\n",
       "      <td>1</td>\n",
       "      <td>7</td>\n",
       "      <td>7</td>\n",
       "      <td>7</td>\n",
       "      <td>1</td>\n",
       "      <td>7</td>\n",
       "      <td>3</td>\n",
       "    </tr>\n",
       "    <tr>\n",
       "      <th>2000</th>\n",
       "      <td>h_h002873</td>\n",
       "      <td>여</td>\n",
       "      <td>30</td>\n",
       "      <td>519</td>\n",
       "      <td>ICC제주국제컨벤션센터</td>\n",
       "      <td>전시/공연</td>\n",
       "      <td>전시/기념관</td>\n",
       "      <td>컨벤션센터</td>\n",
       "      <td>3.0</td>\n",
       "      <td>2</td>\n",
       "      <td>2</td>\n",
       "      <td>7</td>\n",
       "      <td>4</td>\n",
       "      <td>5</td>\n",
       "      <td>3</td>\n",
       "      <td>6</td>\n",
       "      <td>2</td>\n",
       "      <td>1</td>\n",
       "    </tr>\n",
       "    <tr>\n",
       "      <th>2001</th>\n",
       "      <td>h_h006612</td>\n",
       "      <td>남</td>\n",
       "      <td>50</td>\n",
       "      <td>519</td>\n",
       "      <td>ICC제주국제컨벤션센터</td>\n",
       "      <td>전시/공연</td>\n",
       "      <td>전시/기념관</td>\n",
       "      <td>컨벤션센터</td>\n",
       "      <td>4.0</td>\n",
       "      <td>5</td>\n",
       "      <td>2</td>\n",
       "      <td>3</td>\n",
       "      <td>2</td>\n",
       "      <td>2</td>\n",
       "      <td>4</td>\n",
       "      <td>2</td>\n",
       "      <td>6</td>\n",
       "      <td>1</td>\n",
       "    </tr>\n",
       "  </tbody>\n",
       "</table>\n",
       "<p>2002 rows × 18 columns</p>\n",
       "</div>"
      ]
     },
     "execution_count": 92,
     "metadata": {},
     "output_type": "execute_result"
    }
   ],
   "execution_count": 92
  },
  {
   "metadata": {
    "ExecuteTime": {
     "end_time": "2024-11-07T08:49:24.648232Z",
     "start_time": "2024-11-07T08:49:24.640244Z"
    }
   },
   "cell_type": "code",
   "source": "train_df.columns",
   "id": "b9d474a7789d9c21",
   "outputs": [
    {
     "data": {
      "text/plain": [
       "Index(['TRAVEL_ID', 'GENDER', 'AGE_GRP', 'FCLTY_ID', 'FCLTY_NM',\n",
       "       'CTGRY_ONE_NM', 'CTGRY_TWO_NM', 'CTGRY_THREE_NM', 'DGSTFN',\n",
       "       'TRAVEL_STYL_1', 'TRAVEL_STYL_2', 'TRAVEL_STYL_3', 'TRAVEL_STYL_4',\n",
       "       'TRAVEL_STYL_5', 'TRAVEL_STYL_6', 'TRAVEL_STYL_7', 'TRAVEL_STYL_8',\n",
       "       'TRAVEL_COMPANIONS_NUM'],\n",
       "      dtype='object')"
      ]
     },
     "execution_count": 93,
     "metadata": {},
     "output_type": "execute_result"
    }
   ],
   "execution_count": 93
  },
  {
   "metadata": {
    "ExecuteTime": {
     "end_time": "2024-11-07T08:42:58.155737Z",
     "start_time": "2024-11-07T08:42:55.219845Z"
    }
   },
   "cell_type": "code",
   "source": [
    "selected_category = input(\"원하는 장소의 분류를 선택하세요: \")\n",
    "# selected_category = '대형전시/박물관'\n",
    "\n",
    "sim_scores = ct_sim[selected_category].sort_values(ascending=False)\n",
    "sim_scores = sim_scores[1:].index  # 자기 자신 제외\n",
    "recommend_fclty = []\n",
    "\n",
    "for category in sim_scores:\n",
    "    facilities = train_df[train_df['CTGRY_THREE_NM'] == category]['FCLTY_NM']  \n",
    "\n",
    "    for fclty in facilities:\n",
    "        if fclty not in recommend_fclty:  \n",
    "            recommend_fclty.append(fclty)\n",
    "    if len(recommend_fclty) >= 20: \n",
    "        break\n",
    "\n",
    "print(f\"---------🏝️{selected_category}🏝️에 해당하는 추천 장소---------🏝️\")\n",
    "for fclty in recommend_fclty[:20]:  # 20개만 출력\n",
    "    print(fclty)"
   ],
   "id": "d34aa830e0188902",
   "outputs": [
    {
     "name": "stdout",
     "output_type": "stream",
     "text": [
      "---------🏝️대형전시/박물관🏝️에 해당하는 추천 장소---------🏝️\n",
      "갤러리2중선농원\n",
      "건강과성박물관\n",
      "그리스신화박물관\n",
      "대정현역사자료전시관\n",
      "바이나흐튼크리스마스박물관\n",
      "본태박물관\n",
      "빛의벙커\n",
      "서복전시관\n",
      "세계술박물관\n",
      "소암기념관\n",
      "수목원테마파크아이스뮤지엄\n",
      "숨도\n",
      "아프리카박물관\n",
      "오설록티뮤지엄\n",
      "제주4.3평화공원제주4.3평화기념관\n",
      "제주커피박물관바움\n",
      "제주학생문화원\n",
      "제주해양동물박물관\n",
      "조안베어뮤지엄\n",
      "초콜릿박물관\n"
     ]
    }
   ],
   "execution_count": 90
  },
  {
   "metadata": {},
   "cell_type": "code",
   "outputs": [],
   "execution_count": null,
   "source": "",
   "id": "1c66deb1c8428ca4"
  }
 ],
 "metadata": {
  "kernelspec": {
   "display_name": "Python 3",
   "language": "python",
   "name": "python3"
  },
  "language_info": {
   "codemirror_mode": {
    "name": "ipython",
    "version": 2
   },
   "file_extension": ".py",
   "mimetype": "text/x-python",
   "name": "python",
   "nbconvert_exporter": "python",
   "pygments_lexer": "ipython2",
   "version": "2.7.6"
  }
 },
 "nbformat": 4,
 "nbformat_minor": 5
}
