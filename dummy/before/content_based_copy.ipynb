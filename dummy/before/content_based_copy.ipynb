{
 "cells": [
  {
   "metadata": {
    "ExecuteTime": {
     "end_time": "2024-11-09T12:17:04.026493Z",
     "start_time": "2024-11-09T12:17:04.022588Z"
    }
   },
   "cell_type": "code",
   "source": [
    "import numpy as np\n",
    "import pandas as pd\n",
    "import matplotlib.pyplot as plt\n",
    "import matplotlib\n",
    "import matplotlib.font_manager as fm"
   ],
   "id": "ee5bcfcb0efda0c1",
   "outputs": [],
   "execution_count": 1
  },
  {
   "metadata": {
    "ExecuteTime": {
     "end_time": "2024-11-09T12:17:04.091131Z",
     "start_time": "2024-11-09T12:17:04.060387Z"
    }
   },
   "cell_type": "code",
   "source": "df = pd.read_csv('./data/main_data.csv')",
   "id": "8772ea88182de6d7",
   "outputs": [],
   "execution_count": 2
  },
  {
   "cell_type": "code",
   "id": "initial_id",
   "metadata": {
    "collapsed": true,
    "ExecuteTime": {
     "end_time": "2024-11-09T12:17:04.109557Z",
     "start_time": "2024-11-09T12:17:04.097626Z"
    }
   },
   "source": [
    "import unicodedata\n",
    "\n",
    "# 유니코드 정규화 후 고유 값 확인\n",
    "df['CTGRY_THREE_NM'] = df['CTGRY_THREE_NM'].apply(lambda x: unicodedata.normalize('NFKC', x))\n",
    "unique_values_three = df['CTGRY_THREE_NM'].unique()\n",
    "unique_count_three = len(unique_values_three)\n",
    "\n",
    "# 유니코드 정규화 후 고유 값 확인\n",
    "df['CTGRY_TWO_NM'] = df['CTGRY_TWO_NM'].apply(lambda x: unicodedata.normalize('NFKC', x))\n",
    "unique_values_two = df['CTGRY_TWO_NM'].unique()\n",
    "unique_count_two = len(unique_values_two)\n",
    "\n",
    "# 유니코드 정규화 후 고유 값 확인\n",
    "df['CTGRY_ONE_NM'] = df['CTGRY_ONE_NM'].apply(lambda x: unicodedata.normalize('NFKC', x))\n",
    "unique_values_one = df['CTGRY_ONE_NM'].unique()\n",
    "unique_count_one = len(unique_values_one)\n"
   ],
   "outputs": [],
   "execution_count": 3
  },
  {
   "metadata": {
    "ExecuteTime": {
     "end_time": "2024-11-09T12:17:04.694620Z",
     "start_time": "2024-11-09T12:17:04.690051Z"
    }
   },
   "cell_type": "code",
   "source": [
    "unique_values_list = list(unique_values_one) + list(unique_values_two) + list(unique_values_three)\n",
    "print(unique_values_list[0])"
   ],
   "id": "fe9c8cfe1705a8a4",
   "outputs": [
    {
     "name": "stdout",
     "output_type": "stream",
     "text": [
      "문화관광/명소\n"
     ]
    }
   ],
   "execution_count": 4
  },
  {
   "metadata": {
    "ExecuteTime": {
     "end_time": "2024-11-09T12:17:05.579824Z",
     "start_time": "2024-11-09T12:17:04.722457Z"
    }
   },
   "cell_type": "code",
   "source": [
    "import pandas as pd\n",
    "from gensim.models.fasttext import load_facebook_model\n",
    "from itertools import combinations\n",
    "from sklearn.metrics.pairwise import cosine_similarity\n",
    "from gensim.models import KeyedVectors\n",
    "from gensim.models import fasttext"
   ],
   "id": "f7e53bf4c82448b",
   "outputs": [],
   "execution_count": 5
  },
  {
   "metadata": {
    "ExecuteTime": {
     "end_time": "2024-11-09T12:17:06.040981Z",
     "start_time": "2024-11-09T12:17:05.593654Z"
    }
   },
   "cell_type": "code",
   "source": [
    "#fastText 모델 로드 (Facebook 라이브러리 사용)\n",
    "model = fasttext.load_model('./data/cc.ko.300.bin')\n",
    "\n",
    "#KeyedVectors 객체 생성\n",
    "kv_model = KeyedVectors(vector_size=model.get_dimension())\n",
    "\n",
    "#필요한 단어 벡터만 추가\n",
    "for word in unique_values_list:\n",
    "    kv_model.add_vector(word, model.get_word_vector(word))\n",
    "\n",
    "#KeyedVectors 형식으로 저장\n",
    "kv_model.save(\"small_fasttext_model.kv\")"
   ],
   "id": "faccccad6778e5b7",
   "outputs": [
    {
     "ename": "AttributeError",
     "evalue": "module 'gensim.models.fasttext' has no attribute 'load_model'",
     "output_type": "error",
     "traceback": [
      "\u001B[1;31m---------------------------------------------------------------------------\u001B[0m",
      "\u001B[1;31mAttributeError\u001B[0m                            Traceback (most recent call last)",
      "Cell \u001B[1;32mIn[6], line 2\u001B[0m\n\u001B[0;32m      1\u001B[0m \u001B[38;5;66;03m#fastText 모델 로드 (Facebook 라이브러리 사용)\u001B[39;00m\n\u001B[1;32m----> 2\u001B[0m model \u001B[38;5;241m=\u001B[39m \u001B[43mfasttext\u001B[49m\u001B[38;5;241;43m.\u001B[39;49m\u001B[43mload_model\u001B[49m(\u001B[38;5;124m'\u001B[39m\u001B[38;5;124m./data/cc.ko.300.bin\u001B[39m\u001B[38;5;124m'\u001B[39m)\n\u001B[0;32m      4\u001B[0m \u001B[38;5;66;03m#KeyedVectors 객체 생성\u001B[39;00m\n\u001B[0;32m      5\u001B[0m kv_model \u001B[38;5;241m=\u001B[39m KeyedVectors(vector_size\u001B[38;5;241m=\u001B[39mmodel\u001B[38;5;241m.\u001B[39mget_dimension())\n",
      "\u001B[1;31mAttributeError\u001B[0m: module 'gensim.models.fasttext' has no attribute 'load_model'"
     ]
    }
   ],
   "execution_count": 6
  },
  {
   "metadata": {
    "ExecuteTime": {
     "end_time": "2024-11-09T12:17:06.077399Z",
     "start_time": "2024-11-08T02:53:27.456114Z"
    }
   },
   "cell_type": "code",
   "source": [
    "# 빈 DataFrame 생성 (인덱스와 컬럼은 단어 리스트로 설정)\n",
    "kv_model = KeyedVectors.load(\"./data/small_fasttext_model.kv\")\n",
    "ct_sim = pd.DataFrame(index=unique_values_three, columns=unique_values_three)\n",
    "\n",
    "# 모든 단어 쌍에 대해 유사도 계산\n",
    "for word1 in unique_values_three:\n",
    "    for word2 in unique_values_three:\n",
    "        # 두 단어가 모두 모델에 있을 때만 유사도 계산\n",
    "        if word1 in kv_model and word2 in kv_model:\n",
    "            # 벡터 추출\n",
    "            vec1 = kv_model[word1].reshape(1, -1)\n",
    "            vec2 = kv_model[word2].reshape(1, -1)\n",
    "            # 코사인 유사도 계산\n",
    "            similarity = cosine_similarity(vec1, vec2)[0][0]\n",
    "            ct_sim.loc[word1, word2] = similarity\n",
    "        else:\n",
    "            ct_sim.loc[word1, word2] = np.nan  # 모델에 없는 단어는 NaN 처리\n",
    "\n",
    "display(ct_sim)"
   ],
   "id": "90c56392ca8cef0e",
   "outputs": [
    {
     "ename": "NameError",
     "evalue": "name 'KeyedVectors' is not defined",
     "output_type": "error",
     "traceback": [
      "\u001B[1;31m---------------------------------------------------------------------------\u001B[0m",
      "\u001B[1;31mNameError\u001B[0m                                 Traceback (most recent call last)",
      "Cell \u001B[1;32mIn[39], line 2\u001B[0m\n\u001B[0;32m      1\u001B[0m \u001B[38;5;66;03m# 빈 DataFrame 생성 (인덱스와 컬럼은 단어 리스트로 설정)\u001B[39;00m\n\u001B[1;32m----> 2\u001B[0m kv_model \u001B[38;5;241m=\u001B[39m \u001B[43mKeyedVectors\u001B[49m\u001B[38;5;241m.\u001B[39mload(\u001B[38;5;124m\"\u001B[39m\u001B[38;5;124m./data/small_fasttext_model.kv\u001B[39m\u001B[38;5;124m\"\u001B[39m)\n\u001B[0;32m      3\u001B[0m ct_sim \u001B[38;5;241m=\u001B[39m pd\u001B[38;5;241m.\u001B[39mDataFrame(index\u001B[38;5;241m=\u001B[39munique_values_three, columns\u001B[38;5;241m=\u001B[39munique_values_three)\n\u001B[0;32m      5\u001B[0m \u001B[38;5;66;03m# 모든 단어 쌍에 대해 유사도 계산\u001B[39;00m\n",
      "\u001B[1;31mNameError\u001B[0m: name 'KeyedVectors' is not defined"
     ]
    }
   ],
   "execution_count": 39
  },
  {
   "metadata": {
    "ExecuteTime": {
     "end_time": "2024-11-09T12:17:06.079315300Z",
     "start_time": "2024-11-07T08:49:23.799882Z"
    }
   },
   "cell_type": "code",
   "source": [
    "train_df=pd.read_csv('./data/train_df.csv')\n",
    "train_df"
   ],
   "id": "1c94b38e60c2c0fe",
   "outputs": [
    {
     "data": {
      "text/plain": [
       "      TRAVEL_ID GENDER  AGE_GRP  FCLTY_ID      FCLTY_NM CTGRY_ONE_NM  \\\n",
       "0     h_h000009      남       40         1        9.81파크      문화관광/명소   \n",
       "1     h_h000172      남       20         1        9.81파크      문화관광/명소   \n",
       "2     h_h000203      남       20         1        9.81파크      문화관광/명소   \n",
       "3     h_h000233      여       30         1        9.81파크      문화관광/명소   \n",
       "4     h_h000263      여       40         1        9.81파크      문화관광/명소   \n",
       "...         ...    ...      ...       ...           ...          ...   \n",
       "1997  h_h000078      여       40       519  ICC제주국제컨벤션센터        전시/공연   \n",
       "1998  h_h000870      남       30       519  ICC제주국제컨벤션센터        전시/공연   \n",
       "1999  h_h002119      남       30       519  ICC제주국제컨벤션센터        전시/공연   \n",
       "2000  h_h002873      여       30       519  ICC제주국제컨벤션센터        전시/공연   \n",
       "2001  h_h006612      남       50       519  ICC제주국제컨벤션센터        전시/공연   \n",
       "\n",
       "     CTGRY_TWO_NM CTGRY_THREE_NM  DGSTFN  TRAVEL_STYL_1  TRAVEL_STYL_2  \\\n",
       "0             관광지    테마공원/대형놀이공원     5.0              3              2   \n",
       "1             관광지    테마공원/대형놀이공원     5.0              3              3   \n",
       "2             관광지    테마공원/대형놀이공원     5.0              2              1   \n",
       "3             관광지    테마공원/대형놀이공원     5.0              2              1   \n",
       "4             관광지    테마공원/대형놀이공원     5.0              4              2   \n",
       "...           ...            ...     ...            ...            ...   \n",
       "1997       전시/기념관          컨벤션센터     4.0              6              2   \n",
       "1998       전시/기념관          컨벤션센터     5.0              2              3   \n",
       "1999       전시/기념관          컨벤션센터     4.0              6              1   \n",
       "2000       전시/기념관          컨벤션센터     3.0              2              2   \n",
       "2001       전시/기념관          컨벤션센터     4.0              5              2   \n",
       "\n",
       "      TRAVEL_STYL_3  TRAVEL_STYL_4  TRAVEL_STYL_5  TRAVEL_STYL_6  \\\n",
       "0                 3              3              3              5   \n",
       "1                 2              5              2              3   \n",
       "2                 1              4              6              4   \n",
       "3                 2              1              5              3   \n",
       "4                 2              2              4              4   \n",
       "...             ...            ...            ...            ...   \n",
       "1997              6              3              5              2   \n",
       "1998              5              3              3              2   \n",
       "1999              1              7              7              7   \n",
       "2000              7              4              5              3   \n",
       "2001              3              2              2              4   \n",
       "\n",
       "      TRAVEL_STYL_7  TRAVEL_STYL_8  TRAVEL_COMPANIONS_NUM  \n",
       "0                 2              6                      1  \n",
       "1                 2              6                      1  \n",
       "2                 2              6                      3  \n",
       "3                 3              7                      1  \n",
       "4                 4              4                      2  \n",
       "...             ...            ...                    ...  \n",
       "1997              7              5                      4  \n",
       "1998              5              7                      0  \n",
       "1999              1              7                      3  \n",
       "2000              6              2                      1  \n",
       "2001              2              6                      1  \n",
       "\n",
       "[2002 rows x 18 columns]"
      ],
      "text/html": [
       "<div>\n",
       "<style scoped>\n",
       "    .dataframe tbody tr th:only-of-type {\n",
       "        vertical-align: middle;\n",
       "    }\n",
       "\n",
       "    .dataframe tbody tr th {\n",
       "        vertical-align: top;\n",
       "    }\n",
       "\n",
       "    .dataframe thead th {\n",
       "        text-align: right;\n",
       "    }\n",
       "</style>\n",
       "<table border=\"1\" class=\"dataframe\">\n",
       "  <thead>\n",
       "    <tr style=\"text-align: right;\">\n",
       "      <th></th>\n",
       "      <th>TRAVEL_ID</th>\n",
       "      <th>GENDER</th>\n",
       "      <th>AGE_GRP</th>\n",
       "      <th>FCLTY_ID</th>\n",
       "      <th>FCLTY_NM</th>\n",
       "      <th>CTGRY_ONE_NM</th>\n",
       "      <th>CTGRY_TWO_NM</th>\n",
       "      <th>CTGRY_THREE_NM</th>\n",
       "      <th>DGSTFN</th>\n",
       "      <th>TRAVEL_STYL_1</th>\n",
       "      <th>TRAVEL_STYL_2</th>\n",
       "      <th>TRAVEL_STYL_3</th>\n",
       "      <th>TRAVEL_STYL_4</th>\n",
       "      <th>TRAVEL_STYL_5</th>\n",
       "      <th>TRAVEL_STYL_6</th>\n",
       "      <th>TRAVEL_STYL_7</th>\n",
       "      <th>TRAVEL_STYL_8</th>\n",
       "      <th>TRAVEL_COMPANIONS_NUM</th>\n",
       "    </tr>\n",
       "  </thead>\n",
       "  <tbody>\n",
       "    <tr>\n",
       "      <th>0</th>\n",
       "      <td>h_h000009</td>\n",
       "      <td>남</td>\n",
       "      <td>40</td>\n",
       "      <td>1</td>\n",
       "      <td>9.81파크</td>\n",
       "      <td>문화관광/명소</td>\n",
       "      <td>관광지</td>\n",
       "      <td>테마공원/대형놀이공원</td>\n",
       "      <td>5.0</td>\n",
       "      <td>3</td>\n",
       "      <td>2</td>\n",
       "      <td>3</td>\n",
       "      <td>3</td>\n",
       "      <td>3</td>\n",
       "      <td>5</td>\n",
       "      <td>2</td>\n",
       "      <td>6</td>\n",
       "      <td>1</td>\n",
       "    </tr>\n",
       "    <tr>\n",
       "      <th>1</th>\n",
       "      <td>h_h000172</td>\n",
       "      <td>남</td>\n",
       "      <td>20</td>\n",
       "      <td>1</td>\n",
       "      <td>9.81파크</td>\n",
       "      <td>문화관광/명소</td>\n",
       "      <td>관광지</td>\n",
       "      <td>테마공원/대형놀이공원</td>\n",
       "      <td>5.0</td>\n",
       "      <td>3</td>\n",
       "      <td>3</td>\n",
       "      <td>2</td>\n",
       "      <td>5</td>\n",
       "      <td>2</td>\n",
       "      <td>3</td>\n",
       "      <td>2</td>\n",
       "      <td>6</td>\n",
       "      <td>1</td>\n",
       "    </tr>\n",
       "    <tr>\n",
       "      <th>2</th>\n",
       "      <td>h_h000203</td>\n",
       "      <td>남</td>\n",
       "      <td>20</td>\n",
       "      <td>1</td>\n",
       "      <td>9.81파크</td>\n",
       "      <td>문화관광/명소</td>\n",
       "      <td>관광지</td>\n",
       "      <td>테마공원/대형놀이공원</td>\n",
       "      <td>5.0</td>\n",
       "      <td>2</td>\n",
       "      <td>1</td>\n",
       "      <td>1</td>\n",
       "      <td>4</td>\n",
       "      <td>6</td>\n",
       "      <td>4</td>\n",
       "      <td>2</td>\n",
       "      <td>6</td>\n",
       "      <td>3</td>\n",
       "    </tr>\n",
       "    <tr>\n",
       "      <th>3</th>\n",
       "      <td>h_h000233</td>\n",
       "      <td>여</td>\n",
       "      <td>30</td>\n",
       "      <td>1</td>\n",
       "      <td>9.81파크</td>\n",
       "      <td>문화관광/명소</td>\n",
       "      <td>관광지</td>\n",
       "      <td>테마공원/대형놀이공원</td>\n",
       "      <td>5.0</td>\n",
       "      <td>2</td>\n",
       "      <td>1</td>\n",
       "      <td>2</td>\n",
       "      <td>1</td>\n",
       "      <td>5</td>\n",
       "      <td>3</td>\n",
       "      <td>3</td>\n",
       "      <td>7</td>\n",
       "      <td>1</td>\n",
       "    </tr>\n",
       "    <tr>\n",
       "      <th>4</th>\n",
       "      <td>h_h000263</td>\n",
       "      <td>여</td>\n",
       "      <td>40</td>\n",
       "      <td>1</td>\n",
       "      <td>9.81파크</td>\n",
       "      <td>문화관광/명소</td>\n",
       "      <td>관광지</td>\n",
       "      <td>테마공원/대형놀이공원</td>\n",
       "      <td>5.0</td>\n",
       "      <td>4</td>\n",
       "      <td>2</td>\n",
       "      <td>2</td>\n",
       "      <td>2</td>\n",
       "      <td>4</td>\n",
       "      <td>4</td>\n",
       "      <td>4</td>\n",
       "      <td>4</td>\n",
       "      <td>2</td>\n",
       "    </tr>\n",
       "    <tr>\n",
       "      <th>...</th>\n",
       "      <td>...</td>\n",
       "      <td>...</td>\n",
       "      <td>...</td>\n",
       "      <td>...</td>\n",
       "      <td>...</td>\n",
       "      <td>...</td>\n",
       "      <td>...</td>\n",
       "      <td>...</td>\n",
       "      <td>...</td>\n",
       "      <td>...</td>\n",
       "      <td>...</td>\n",
       "      <td>...</td>\n",
       "      <td>...</td>\n",
       "      <td>...</td>\n",
       "      <td>...</td>\n",
       "      <td>...</td>\n",
       "      <td>...</td>\n",
       "      <td>...</td>\n",
       "    </tr>\n",
       "    <tr>\n",
       "      <th>1997</th>\n",
       "      <td>h_h000078</td>\n",
       "      <td>여</td>\n",
       "      <td>40</td>\n",
       "      <td>519</td>\n",
       "      <td>ICC제주국제컨벤션센터</td>\n",
       "      <td>전시/공연</td>\n",
       "      <td>전시/기념관</td>\n",
       "      <td>컨벤션센터</td>\n",
       "      <td>4.0</td>\n",
       "      <td>6</td>\n",
       "      <td>2</td>\n",
       "      <td>6</td>\n",
       "      <td>3</td>\n",
       "      <td>5</td>\n",
       "      <td>2</td>\n",
       "      <td>7</td>\n",
       "      <td>5</td>\n",
       "      <td>4</td>\n",
       "    </tr>\n",
       "    <tr>\n",
       "      <th>1998</th>\n",
       "      <td>h_h000870</td>\n",
       "      <td>남</td>\n",
       "      <td>30</td>\n",
       "      <td>519</td>\n",
       "      <td>ICC제주국제컨벤션센터</td>\n",
       "      <td>전시/공연</td>\n",
       "      <td>전시/기념관</td>\n",
       "      <td>컨벤션센터</td>\n",
       "      <td>5.0</td>\n",
       "      <td>2</td>\n",
       "      <td>3</td>\n",
       "      <td>5</td>\n",
       "      <td>3</td>\n",
       "      <td>3</td>\n",
       "      <td>2</td>\n",
       "      <td>5</td>\n",
       "      <td>7</td>\n",
       "      <td>0</td>\n",
       "    </tr>\n",
       "    <tr>\n",
       "      <th>1999</th>\n",
       "      <td>h_h002119</td>\n",
       "      <td>남</td>\n",
       "      <td>30</td>\n",
       "      <td>519</td>\n",
       "      <td>ICC제주국제컨벤션센터</td>\n",
       "      <td>전시/공연</td>\n",
       "      <td>전시/기념관</td>\n",
       "      <td>컨벤션센터</td>\n",
       "      <td>4.0</td>\n",
       "      <td>6</td>\n",
       "      <td>1</td>\n",
       "      <td>1</td>\n",
       "      <td>7</td>\n",
       "      <td>7</td>\n",
       "      <td>7</td>\n",
       "      <td>1</td>\n",
       "      <td>7</td>\n",
       "      <td>3</td>\n",
       "    </tr>\n",
       "    <tr>\n",
       "      <th>2000</th>\n",
       "      <td>h_h002873</td>\n",
       "      <td>여</td>\n",
       "      <td>30</td>\n",
       "      <td>519</td>\n",
       "      <td>ICC제주국제컨벤션센터</td>\n",
       "      <td>전시/공연</td>\n",
       "      <td>전시/기념관</td>\n",
       "      <td>컨벤션센터</td>\n",
       "      <td>3.0</td>\n",
       "      <td>2</td>\n",
       "      <td>2</td>\n",
       "      <td>7</td>\n",
       "      <td>4</td>\n",
       "      <td>5</td>\n",
       "      <td>3</td>\n",
       "      <td>6</td>\n",
       "      <td>2</td>\n",
       "      <td>1</td>\n",
       "    </tr>\n",
       "    <tr>\n",
       "      <th>2001</th>\n",
       "      <td>h_h006612</td>\n",
       "      <td>남</td>\n",
       "      <td>50</td>\n",
       "      <td>519</td>\n",
       "      <td>ICC제주국제컨벤션센터</td>\n",
       "      <td>전시/공연</td>\n",
       "      <td>전시/기념관</td>\n",
       "      <td>컨벤션센터</td>\n",
       "      <td>4.0</td>\n",
       "      <td>5</td>\n",
       "      <td>2</td>\n",
       "      <td>3</td>\n",
       "      <td>2</td>\n",
       "      <td>2</td>\n",
       "      <td>4</td>\n",
       "      <td>2</td>\n",
       "      <td>6</td>\n",
       "      <td>1</td>\n",
       "    </tr>\n",
       "  </tbody>\n",
       "</table>\n",
       "<p>2002 rows × 18 columns</p>\n",
       "</div>"
      ]
     },
     "execution_count": 92,
     "metadata": {},
     "output_type": "execute_result"
    }
   ],
   "execution_count": 92
  },
  {
   "metadata": {
    "ExecuteTime": {
     "end_time": "2024-11-09T12:17:06.083765700Z",
     "start_time": "2024-11-07T08:49:24.640244Z"
    }
   },
   "cell_type": "code",
   "source": "train_df.columns",
   "id": "b9d474a7789d9c21",
   "outputs": [
    {
     "data": {
      "text/plain": [
       "Index(['TRAVEL_ID', 'GENDER', 'AGE_GRP', 'FCLTY_ID', 'FCLTY_NM',\n",
       "       'CTGRY_ONE_NM', 'CTGRY_TWO_NM', 'CTGRY_THREE_NM', 'DGSTFN',\n",
       "       'TRAVEL_STYL_1', 'TRAVEL_STYL_2', 'TRAVEL_STYL_3', 'TRAVEL_STYL_4',\n",
       "       'TRAVEL_STYL_5', 'TRAVEL_STYL_6', 'TRAVEL_STYL_7', 'TRAVEL_STYL_8',\n",
       "       'TRAVEL_COMPANIONS_NUM'],\n",
       "      dtype='object')"
      ]
     },
     "execution_count": 93,
     "metadata": {},
     "output_type": "execute_result"
    }
   ],
   "execution_count": 93
  },
  {
   "metadata": {
    "ExecuteTime": {
     "end_time": "2024-11-07T08:42:58.155737Z",
     "start_time": "2024-11-07T08:42:55.219845Z"
    }
   },
   "cell_type": "code",
   "source": [
    "selected_category = input(\"원하는 장소의 분류를 선택하세요: \")\n",
    "# selected_category = '대형전시/박물관'\n",
    "\n",
    "sim_scores = ct_sim[selected_category].sort_values(ascending=False)\n",
    "sim_scores = sim_scores[1:].index  # 자기 자신 제외\n",
    "recommend_fclty = []\n",
    "\n",
    "for category in sim_scores:\n",
    "    facilities = train_df[train_df['CTGRY_THREE_NM'] == category]['FCLTY_NM']  \n",
    "\n",
    "    for fclty in facilities:\n",
    "        if fclty not in recommend_fclty:  \n",
    "            recommend_fclty.append(fclty)\n",
    "    if len(recommend_fclty) >= 20: \n",
    "        break\n",
    "\n",
    "print(f\"---------🏝️{selected_category}🏝️에 해당하는 추천 장소---------🏝️\")\n",
    "for fclty in recommend_fclty[:20]:  # 20개만 출력\n",
    "    print(fclty)"
   ],
   "id": "d34aa830e0188902",
   "outputs": [
    {
     "name": "stdout",
     "output_type": "stream",
     "text": [
      "---------🏝️대형전시/박물관🏝️에 해당하는 추천 장소---------🏝️\n",
      "갤러리2중선농원\n",
      "건강과성박물관\n",
      "그리스신화박물관\n",
      "대정현역사자료전시관\n",
      "바이나흐튼크리스마스박물관\n",
      "본태박물관\n",
      "빛의벙커\n",
      "서복전시관\n",
      "세계술박물관\n",
      "소암기념관\n",
      "수목원테마파크아이스뮤지엄\n",
      "숨도\n",
      "아프리카박물관\n",
      "오설록티뮤지엄\n",
      "제주4.3평화공원제주4.3평화기념관\n",
      "제주커피박물관바움\n",
      "제주학생문화원\n",
      "제주해양동물박물관\n",
      "조안베어뮤지엄\n",
      "초콜릿박물관\n"
     ]
    }
   ],
   "execution_count": 90
  },
  {
   "metadata": {},
   "cell_type": "code",
   "outputs": [],
   "execution_count": null,
   "source": "",
   "id": "1c66deb1c8428ca4"
  }
 ],
 "metadata": {
  "kernelspec": {
   "display_name": "Python 3",
   "language": "python",
   "name": "python3"
  },
  "language_info": {
   "codemirror_mode": {
    "name": "ipython",
    "version": 2
   },
   "file_extension": ".py",
   "mimetype": "text/x-python",
   "name": "python",
   "nbconvert_exporter": "python",
   "pygments_lexer": "ipython2",
   "version": "2.7.6"
  }
 },
 "nbformat": 4,
 "nbformat_minor": 5
}
