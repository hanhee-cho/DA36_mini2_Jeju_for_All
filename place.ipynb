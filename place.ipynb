{
 "cells": [
  {
   "cell_type": "code",
   "id": "initial_id",
   "metadata": {
    "collapsed": true,
    "ExecuteTime": {
     "end_time": "2024-11-11T06:04:51.657962Z",
     "start_time": "2024-11-11T06:04:51.615667Z"
    }
   },
   "source": [
    "import pandas as pd\n",
    "\n",
    "data1 = {\n",
    "    'place': [\n",
    "        '9.81파크', '강창학종합경기장', '갤러리2중선농원', '건강과성박물관', '고흐의정원', '교래자연휴양림', '국립제주박물관',\n",
    "        '국제리더스클럽', '그리스신화박물관', '금능석물원', '금능해수욕장', '기당미술관', '김녕미로공원', '김녕요트투어',\n",
    "        '김녕해수욕장', '김만덕기념관', '김영갑갤러리두모악', '남원큰엉해변', '너븐숭이4.3기념관', '노형근린공원', '대정현역사자료전시관',\n",
    "        '더마파크', '돌하르방미술관', '라온GC', '만장굴', '메이즈랜드', '무민랜드제주', '바이나흐튼크리스마스박물관',\n",
    "        '방림원', '본태박물관'\n",
    "    ],\n",
    "    'address': [\n",
    "        '제주특별자치도 제주시 구좌읍 김녕리', '제주특별자치도 제주시 조천읍 남조로 2020', '제주특별자치도 서귀포시 안덕면 상창리 557-3', \n",
    "        '제주특별자치도 서귀포시 성산읍 섭지코지로', '제주특별자치도 제주시 한경면 절물로 168', '제주특별자치도 서귀포시 안덕면 창고길 27',\n",
    "        '제주특별자치도 제주시 한림읍 금능리 1961', '제주특별자치도 제주시 한림읍 귀덕리 370', '제주특별자치도 제주시 한림로 220',\n",
    "        '제주특별자치도 서귀포시 색달로 213', '제주특별자치도 제주시 도남로 53', '제주특별자치도 서귀포시 남원읍 태위로 407', \n",
    "        '제주특별자치도 제주시 일도2동 2490', '제주특별자치도 제주시 조천읍 4.3기념관로 55', '제주특별자치도 서귀포시 대정읍 상모리 132', \n",
    "        '제주특별자치도 제주시 연동 65', '제주특별자치도 제주시 연동 57', '제주특별자치도 서귀포시 중문관광로 72', '제주특별자치도 서귀포시 남원읍 큰엉로',\n",
    "        '제주특별자치도 제주시 특별자치도, 조천읍 선교로 267', '제주특별자치도 제주시 도남로 53', '제주특별자치도 서귀포시 남원읍 태위로 407', \n",
    "        '제주특별자치도 제주시 일도2동 2490', '제주특별자치도 제주시 조천읍 4.3기념관로 55', '제주특별자치도 서귀포시 대정읍 상모리 132',\n",
    "        '제주특별자치도 제주시 연동 65', '제주특별자치도 제주시 연동 57', '제주특별자치도 서귀포시 중문관광로 72', '제주특별자치도 서귀포시 남원읍 큰엉로',\n",
    "        '제주특별자치도 제주시 특별자치도, 조천읍 선교로 267'\n",
    "    ],\n",
    "    'description': [\n",
    "        '에메랄드빛 바다가 펼쳐진 제주 동부의 아름다운 해수욕장', '제주 숲 속 기차여행을 즐길 수 있는 자연 테마파크', \n",
    "        '수많은 동백꽃이 아름답게 피어나는 정원', '제주의 동쪽 해안 절경을 감상할 수 있는 명소', '숲 속에서의 힐링을 즐길 수 있는 자연휴양림', \n",
    "        '제주에서 즐기는 레이싱과 익스트림 스포츠의 천국', '예술과 자연이 어우러진 독특한 건축물과 정원', '옛 제주 생활 문화를 체험할 수 있는 테마파크',\n",
    "        '다양한 체험과 볼거리가 있는 가족 테마파크', '말과 함께하는 이색적인 체험 공간', '제주 역사 속 김만덕의 삶과 정신을 기리는 기념관',\n",
    "        '그리스 신화 속 이야기와 작품을 전시하는 박물관', '제주도의 역사와 문화를 만날 수 있는 국립 박물관', '제주 4.3 사건을 기리는 역사 기념관', \n",
    "        '항공과 우주에 관한 다양한 전시와 체험을 제공하는 박물관', '제주도 예술 작품들을 감상할 수 있는 미술관', '현대 예술 작품들이 전시된 독특한 미술 공간', \n",
    "        '국제회의와 행사들이 열리는 컨벤션센터', '제주의 아름다운 바위와 절벽이 어우러진 해변', '제주 전통과 옛 생활을 체험할 수 있는 테마공원',\n",
    "        '에메랄드빛 바다가 펼쳐진 제주 동부의 아름다운 해수욕장', '제주 숲 속 기차여행을 즐길 수 있는 자연 테마파크', \n",
    "        '수많은 동백꽃이 아름답게 피어나는 정원', '제주의 동쪽 해안 절경을 감상할 수 있는 명소', '숲 속에서의 힐링을 즐길 수 있는 자연휴양림', \n",
    "        '제주에서 즐기는 레이싱과 익스트림 스포츠의 천국', '예술과 자연이 어우러진 독특한 건축물과 정원', '옛 제주 생활 문화를 체험할 수 있는 테마파크',\n",
    "        '다양한 체험과 볼거리가 있는 가족 테마파크', '말과 함께하는 이색적인 체험 공간'\n",
    "    ],\n",
    "    'link': [\n",
    "        \"https://www.981park.com/\", \"https://www.981park.com/\", \"https://www.981park.com/\", \"http://www.sexmuseum.or.kr/\", \n",
    "        \"https://goghs-garden.modoo.at/\", \"https://www.visitjeju.net/kr/detail/view?contentsid=CONT_000000000500497\", \n",
    "        \"https://jeju.museum.go.kr/\", \"\", \"http://www.greekmythology.co.kr/\", \"https://www.981park.com/\", \n",
    "        \"https://www.981park.com/\", \"https://www.981park.com/\", \"http://www.sexmuseum.or.kr/\", \n",
    "        \"https://goghs-garden.modoo.at/\", \"https://www.visitjeju.net/kr/detail/view?contentsid=CONT_000000000500497\", \n",
    "        \"https://jeju.museum.go.kr/\", \"\", \"http://www.greekmythology.co.kr/\", \"https://www.981park.com/\", \n",
    "        \"https://www.981park.com/\", \"https://www.981park.com/\", \"http://www.sexmuseum.or.kr/\", \n",
    "        \"https://goghs-garden.modoo.at/\", \"https://www.visitjeju.net/kr/detail/view?contentsid=CONT_000000000500497\", \n",
    "        \"https://jeju.museum.go.kr/\", \"\", \"http://www.greekmythology.co.kr/\", \"https://www.981park.com/\", \n",
    "        \"https://www.981park.com/\",\"https://www.981park.com/\"\n",
    "    ],\n",
    "    'photo': ['data_2/11.jpg'] * 30   # 30개의 동일한 값을 넣음\n",
    "}\n",
    "\n",
    "df1 = pd.DataFrame(data1)\n",
    "df1.head()  # 상위 5개 항목 확인\n"
   ],
   "outputs": [
    {
     "data": {
      "text/plain": [
       "      place                     address                     description  \\\n",
       "0    9.81파크         제주특별자치도 제주시 구좌읍 김녕리  에메랄드빛 바다가 펼쳐진 제주 동부의 아름다운 해수욕장   \n",
       "1  강창학종합경기장    제주특별자치도 제주시 조천읍 남조로 2020    제주 숲 속 기차여행을 즐길 수 있는 자연 테마파크   \n",
       "2  갤러리2중선농원  제주특별자치도 서귀포시 안덕면 상창리 557-3           수많은 동백꽃이 아름답게 피어나는 정원   \n",
       "3   건강과성박물관      제주특별자치도 서귀포시 성산읍 섭지코지로       제주의 동쪽 해안 절경을 감상할 수 있는 명소   \n",
       "4     고흐의정원     제주특별자치도 제주시 한경면 절물로 168        숲 속에서의 힐링을 즐길 수 있는 자연휴양림   \n",
       "\n",
       "                             link          photo  \n",
       "0        https://www.981park.com/  data_2/11.jpg  \n",
       "1        https://www.981park.com/  data_2/11.jpg  \n",
       "2        https://www.981park.com/  data_2/11.jpg  \n",
       "3     http://www.sexmuseum.or.kr/  data_2/11.jpg  \n",
       "4  https://goghs-garden.modoo.at/  data_2/11.jpg  "
      ],
      "text/html": [
       "<div>\n",
       "<style scoped>\n",
       "    .dataframe tbody tr th:only-of-type {\n",
       "        vertical-align: middle;\n",
       "    }\n",
       "\n",
       "    .dataframe tbody tr th {\n",
       "        vertical-align: top;\n",
       "    }\n",
       "\n",
       "    .dataframe thead th {\n",
       "        text-align: right;\n",
       "    }\n",
       "</style>\n",
       "<table border=\"1\" class=\"dataframe\">\n",
       "  <thead>\n",
       "    <tr style=\"text-align: right;\">\n",
       "      <th></th>\n",
       "      <th>place</th>\n",
       "      <th>address</th>\n",
       "      <th>description</th>\n",
       "      <th>link</th>\n",
       "      <th>photo</th>\n",
       "    </tr>\n",
       "  </thead>\n",
       "  <tbody>\n",
       "    <tr>\n",
       "      <th>0</th>\n",
       "      <td>9.81파크</td>\n",
       "      <td>제주특별자치도 제주시 구좌읍 김녕리</td>\n",
       "      <td>에메랄드빛 바다가 펼쳐진 제주 동부의 아름다운 해수욕장</td>\n",
       "      <td>https://www.981park.com/</td>\n",
       "      <td>data_2/11.jpg</td>\n",
       "    </tr>\n",
       "    <tr>\n",
       "      <th>1</th>\n",
       "      <td>강창학종합경기장</td>\n",
       "      <td>제주특별자치도 제주시 조천읍 남조로 2020</td>\n",
       "      <td>제주 숲 속 기차여행을 즐길 수 있는 자연 테마파크</td>\n",
       "      <td>https://www.981park.com/</td>\n",
       "      <td>data_2/11.jpg</td>\n",
       "    </tr>\n",
       "    <tr>\n",
       "      <th>2</th>\n",
       "      <td>갤러리2중선농원</td>\n",
       "      <td>제주특별자치도 서귀포시 안덕면 상창리 557-3</td>\n",
       "      <td>수많은 동백꽃이 아름답게 피어나는 정원</td>\n",
       "      <td>https://www.981park.com/</td>\n",
       "      <td>data_2/11.jpg</td>\n",
       "    </tr>\n",
       "    <tr>\n",
       "      <th>3</th>\n",
       "      <td>건강과성박물관</td>\n",
       "      <td>제주특별자치도 서귀포시 성산읍 섭지코지로</td>\n",
       "      <td>제주의 동쪽 해안 절경을 감상할 수 있는 명소</td>\n",
       "      <td>http://www.sexmuseum.or.kr/</td>\n",
       "      <td>data_2/11.jpg</td>\n",
       "    </tr>\n",
       "    <tr>\n",
       "      <th>4</th>\n",
       "      <td>고흐의정원</td>\n",
       "      <td>제주특별자치도 제주시 한경면 절물로 168</td>\n",
       "      <td>숲 속에서의 힐링을 즐길 수 있는 자연휴양림</td>\n",
       "      <td>https://goghs-garden.modoo.at/</td>\n",
       "      <td>data_2/11.jpg</td>\n",
       "    </tr>\n",
       "  </tbody>\n",
       "</table>\n",
       "</div>"
      ]
     },
     "execution_count": 12,
     "metadata": {},
     "output_type": "execute_result"
    }
   ],
   "execution_count": 12
  },
  {
   "metadata": {
    "ExecuteTime": {
     "end_time": "2024-11-11T06:04:49.236386Z",
     "start_time": "2024-11-11T06:04:49.228931Z"
    }
   },
   "cell_type": "code",
   "source": [
    "print(len(data1['place']))  # 30이어야 합니다.\n",
    "print(len(data1['address']))  # 30이어야 합니다.\n",
    "print(len(data1['description']))  # 30이어야 합니다.\n",
    "print(len(data1['link']))  # 30이어야 합니다.\n",
    "print(len(data1['photo']))  # 30이어야 합니다."
   ],
   "id": "c493d63d9cc394bb",
   "outputs": [
    {
     "name": "stdout",
     "output_type": "stream",
     "text": [
      "30\n",
      "30\n",
      "30\n",
      "30\n",
      "30\n"
     ]
    }
   ],
   "execution_count": 11
  },
  {
   "metadata": {
    "ExecuteTime": {
     "end_time": "2024-11-11T06:06:15.888309Z",
     "start_time": "2024-11-11T06:06:15.874397Z"
    }
   },
   "cell_type": "code",
   "source": [
    "data2 = {\n",
    "    'place': [\n",
    "        '붉은오름자연휴양림', '블랙스톤제주CC', '비자림', '빛의벙커', '사계해안', '사라봉공원', '새별오름', \n",
    "        '새별프렌즈', '샤인빌파크CC', '서귀포치유의숲', '서복전시관', '서프라이즈테마파크', '선녀와나무꾼테마공원', \n",
    "        '섭지코지', '성산일출봉', '세계술박물관', '세리월드', '소암기념관', '소인국테마파크', '수목원테마파크아이스뮤지엄',\n",
    "        '숨도', '스카이워터쇼', '신양섭지해수욕장', '신창풍차해안도로', '아라리오뮤지엄동문모텔2', '아프리카박물관', \n",
    "        '애월해안도로', '에코랜드테마파크', '여미지식물원', '오설록티뮤지엄'\n",
    "    ],\n",
    "    'address': [\n",
    "        '제주특별자치도 제주시 서귀포시 대정읍 상모리 132', '제주특별자치도 제주시 연동 65', '제주특별자치도 제주시 연동 57', \n",
    "        '제주특별자치도 서귀포시 중문관광로 72', '제주특별자치도 서귀포시 남원읍 큰엉로', '제주특별자치도 제주시 특별자치도, 조천읍 선교로 267', \n",
    "        '제주특별자치도 제주시 도남로 53', '제주특별자치도 서귀포시 남원읍 태위로 407', '제주특별자치도 제주시 일도2동 2490', \n",
    "        '제주특별자치도 제주시 조천읍 4.3기념관로 55', '제주특별자치도 서귀포시 대정읍 상모리 132', '제주특별자치도 제주시 연동 65', \n",
    "        '제주특별자치도 제주시 연동 57', '제주특별자치도 서귀포시 중문관광로 72', '제주특별자치도 서귀포시 남원읍 큰엉로', \n",
    "        '제주특별자치도 제주시 특별자치도, 조천읍 선교로 267', '제주특별자치도 제주시 도남로 53', '제주특별자치도 서귀포시 남원읍 태위로 407', \n",
    "        '제주특별자치도 제주시 일도2동 2490', '제주특별자치도 제주시 조천읍 4.3기념관로 55', '제주특별자치도 서귀포시 대정읍 상모리 132', \n",
    "        '제주특별자치도 제주시 연동 65', '제주특별자치도 제주시 연동 57', '제주특별자치도 서귀포시 중문관광로 72', '제주특별자치도 서귀포시 남원읍 큰엉로', \n",
    "        '제주특별자치도 제주시 특별자치도, 조천읍 선교로 267','제주특별자치도 제주시 특별자치도, 조천읍 선교로 267','제주특별자치도 제주시 특별자치도, 조천읍 선교로 267','제주특별자치도 제주시 특별자치도, 조천읍 선교로 267','제주특별자치도 제주시 특별자치도, 조천읍 선교로 267'\n",
    "    ],\n",
    "    'description': [\n",
    "        '제주 서귀포시의 아름다운 자연을 자랑하는 휴양림', '제주도 내에서 가장 인기 있는 골프장 중 하나', '제주의 대표적인 숲속 관광지인 비자림', \n",
    "        '빛과 색의 조화로 유명한 예술적인 전시 공간', '제주도의 멋진 해안선을 따라 펼쳐진 자연 경관', '제주 중문에 위치한 공원, 아름다운 산책로가 특징', \n",
    "        '제주 서귀포시에 위치한 자연과 함께하는 오름', '가족 단위 방문객들에게 추천하는 특별한 체험 공간', '제주 서귀포에 위치한 아름다운 골프장', \n",
    "        '제주 서귀포시의 힐링을 위한 자연 공원', '제주 전통문화와 역사를 전시한 기념관', '어린이들과 가족들이 즐길 수 있는 테마파크', \n",
    "        '한국의 전통 이야기를 바탕으로 한 테마파크', '제주에서 가장 유명한 관광 명소, 섭지코지', '제주도 최고의 일출 명소인 성산일출봉', \n",
    "        '세계 각국의 술 문화를 한곳에서 체험할 수 있는 박물관', '모든 연령대가 즐길 수 있는 대형 테마파크', '제주도의 대표적인 현대미술 공간', \n",
    "        '테마파크와 같은 즐거운 시설로 유명한 관광지', '제주도에서 즐기는 다양한 테마 전시', '스릴 넘치는 물놀이와 액티비티로 유명한 해수욕장', \n",
    "        '풍차와 바다가 어우러진 독특한 자연경관을 즐길 수 있는 길', '한국의 독특한 전시와 체험 공간인 미술관', '아프리카 동물들을 만날 수 있는 이색적인 박물관', \n",
    "        '제주도의 아름다운 해안도로를 따라 펼쳐진 자연 풍경', '전통과 현대가 조화를 이루는 테마파크', '제주도의 유명한 식물원과 관련된 테마 공간', \n",
    "        '차와 관련된 다양한 문화와 전시를 즐길 수 있는 곳','차와 관련된 다양한 문화와 전시를 즐길 수 있는 곳','차와 관련된 다양한 문화와 전시를 즐길 수 있는 곳'\n",
    "    ],\n",
    "    'link': [\n",
    "        \"https://www.981park.com/\", \"https://www.981park.com/\", \"https://www.981park.com/\", \"http://www.sexmuseum.or.kr/\", \n",
    "        \"https://goghs-garden.modoo.at/\", \"https://www.visitjeju.net/kr/detail/view?contentsid=CONT_000000000500497\", \n",
    "        \"https://jeju.museum.go.kr/\", \"https://www.greekmythology.co.kr/\", \"https://www.981park.com/\", \n",
    "        \"https://www.981park.com/\", \"https://www.981park.com/\", \"https://www.981park.com/\", \n",
    "        \"http://www.sexmuseum.or.kr/\", \"https://goghs-garden.modoo.at/\", \"https://www.visitjeju.net/kr/detail/view?contentsid=CONT_000000000500497\", \n",
    "        \"https://jeju.museum.go.kr/\", \"https://www.greekmythology.co.kr/\", \"https://www.981park.com/\", \n",
    "        \"https://www.981park.com/\", \"https://www.981park.com/\", \"https://www.981park.com/\", \n",
    "        \"http://www.sexmuseum.or.kr/\", \"https://goghs-garden.modoo.at/\", \"https://www.visitjeju.net/kr/detail/view?contentsid=CONT_000000000500497\", \n",
    "        \"https://jeju.museum.go.kr/\", \"https://www.greekmythology.co.kr/\", \"https://www.981park.com/\", \n",
    "        \"https://www.981park.com/\",\"https://www.981park.com/\",\"https://www.981park.com/\"\n",
    "    ],\n",
    "    'photo': ['data_2/11.jpg'] * 30\n",
    "}\n",
    "\n",
    "# df2 = pd.DataFrame(data2)\n",
    "# df2.head()  # 상위 5개 항목 확인\n"
   ],
   "id": "ee8c9ca37d20d309",
   "outputs": [],
   "execution_count": 18
  },
  {
   "metadata": {
    "ExecuteTime": {
     "end_time": "2024-11-11T06:06:16.181733Z",
     "start_time": "2024-11-11T06:06:16.174654Z"
    }
   },
   "cell_type": "code",
   "source": [
    "print(len(data2['place']))  # 30이어야 합니다.\n",
    "print(len(data2['address']))  # 30이어야 합니다.\n",
    "print(len(data2['description']))  # 30이어야 합니다.\n",
    "print(len(data2['link']))  # 30이어야 합니다.\n",
    "print(len(data2['photo']))  # 30이어야 합니다."
   ],
   "id": "7c8f035ea5ba97a5",
   "outputs": [
    {
     "name": "stdout",
     "output_type": "stream",
     "text": [
      "30\n",
      "30\n",
      "30\n",
      "30\n",
      "30\n"
     ]
    }
   ],
   "execution_count": 19
  },
  {
   "metadata": {
    "ExecuteTime": {
     "end_time": "2024-11-11T06:06:36.177070Z",
     "start_time": "2024-11-11T06:06:36.159168Z"
    }
   },
   "cell_type": "code",
   "source": [
    "data3 = {\n",
    "    'place': [\n",
    "        '오설록티뮤지엄', '우도봉', '웅지승마센터', '윈드1947카트테마파크', '이중섭미술관', '일출랜드', '절물자연휴양림',\n",
    "        '제주4.3평화공원', '제주4.3평화공원제주4.3평화기념관', '제주곶자왈도립공원', '제주국제평화센터', '제주도립김창열미술관', \n",
    "        '제주도립미술관', '제주돌문화공원', '제주러브랜드', '제주민속촌', '제주불빛정원', '제주시민속오일시장', '제주신화월드',\n",
    "        '제주아트서커스', '제주영상문화산업진흥원', '제주월드컵경기장', '제주종합경기장', '제주차귀도요트투어', '제주커피박물관바움',\n",
    "        '제주코코몽에코파크', '제주학생문화원', '제주항공우주박물관', '제주항일기념관', '제주해양동물박물관'\n",
    "    ],\n",
    "    'address': [\n",
    "        '제주특별자치도 제주시 특별자치도, 조천읍 선교로 267', '제주특별자치도 제주시 애월읍 유수암로 64', \n",
    "        '제주특별자치도 서귀포시 대정읍 상모리 132', '제주특별자치도 제주시 조천읍 4.3기념관로 55', \n",
    "        '제주특별자치도 서귀포시 대정읍 상모리 132', '제주특별자치도 제주시 조천읍 선교로 267', '제주특별자치도 서귀포시 중문로 72',\n",
    "        '제주특별자치도 서귀포시 중문로 72', '제주특별자치도 제주시 연동 57', '제주특별자치도 서귀포시 남원읍 큰엉로',\n",
    "        '제주특별자치도 제주시 연동 65', '제주특별자치도 제주시 연동 65', '제주특별자치도 제주시 제주소로 532', \n",
    "        '제주특별자치도 제주시 제주소로 53', '제주특별자치도 제주시 제주시 오등로 365', '제주특별자치도 제주시 선구로 68', \n",
    "        '제주특별자치도 제주시 제주시 오등로 365', '제주특별자치도 서귀포시 남원읍 큰엉로 85', '제주특별자치도 제주시 구좌읍 해안로 265',\n",
    "        '제주특별자치도 서귀포시 강정동 제해로 52', '제주특별자치도 제주시 제주도로 347-1', '제주특별자치도 제주시 오라길 19',\n",
    "        '제주특별자치도 제주시 봉개로 56', '제주특별자치도 제주시 유림로 3', '제주특별자치도 제주시 조천읍 구좌로 367',\n",
    "        '제주특별자치도 제주시 도남로 65', '제주특별자치도 제주시 선구로 235'\n",
    "    ],\n",
    "    'description': [\n",
    "        '제주도의 대표적인 찻잎 박물관', '제주에서 가장 유명한 일출 명소', '제주에서 즐길 수 있는 승마 체험', \n",
    "        '제주도의 풍경을 즐길 수 있는 카트 테마파크', '한국의 대표적인 현대 미술가 작품 전시', '제주에서 일출을 즐기기에 최고의 명소',\n",
    "        '제주에서 자연과 힐링을 즐길 수 있는 자연휴양림', '제주 4.3 사건을 기념하는 평화공원', '제주 4.3 사건을 기념하는 평화기념관',\n",
    "        '제주도의 독특한 숲과 자연 경관을 만날 수 있는 공원', '국제적인 평화 활동을 기념하는 장소', '제주도의 대표적인 미술관',\n",
    "        '제주도립 미술관에서 제주 전통과 현대 미술을 만날 수 있는 곳', '제주돌을 활용한 독특한 전시와 체험 공간', \n",
    "        '제주도에서 즐기는 사랑과 행복의 테마파크', '제주도의 전통을 체험할 수 있는 공간', '제주도에서 저녁에 가볼 만한 명소', \n",
    "        '제주에서 자주 열리는 지역 시장의 정취를 느낄 수 있는 곳', '제주도에서 즐기는 테마 공연과 전시가 있는 곳', \n",
    "        '제주에서 다양한 문화와 전시를 즐길 수 있는 아트서커스', '제주에서 산업 문화를 배울 수 있는 체험 공간',\n",
    "        '제주월드컵이 열린 경기장에서 다양한 스포츠 경기를 즐길 수 있는 곳', '제주도에서 열리는 종합 스포츠 경기를 위한 공간', \n",
    "        '제주에서 즐길 수 있는 요트 투어', '제주도에서 즐기는 커피 테마파크', '자연과 함께 즐기는 코코몽 테마파크',\n",
    "        '제주에서 문화와 역사에 대한 다양한 교육을 받을 수 있는 공간', '우주와 항공 관련 전시를 감상할 수 있는 박물관', \n",
    "        '제주도 항일 역사에 대해 알 수 있는 기념관', '바다의 다양한 동물들을 만날 수 있는 해양 동물 박물관'\n",
    "    ],\n",
    "    'link': [\n",
    "        \"https://www.981park.com/\", \"https://www.981park.com/\", \"https://www.981park.com/\", \"http://www.sexmuseum.or.kr/\", \n",
    "        \"https://goghs-garden.modoo.at/\", \"https://www.visitjeju.net/kr/detail/view?contentsid=CONT_000000000500497\", \n",
    "        \"https://jeju.museum.go.kr/\", \"\", \"http://www.greekmythology.co.kr/\", \"https://www.981park.com/\", \n",
    "        \"https://www.981park.com/\", \"https://www.981park.com/\", \"http://www.sexmuseum.or.kr/\", \n",
    "        \"https://goghs-garden.modoo.at/\", \"https://www.visitjeju.net/kr/detail/view?contentsid=CONT_000000000500497\", \n",
    "        \"https://jeju.museum.go.kr/\", \"\", \"http://www.greekmythology.co.kr/\", \"https://www.981park.com/\", \n",
    "        \"https://www.981park.com/\", \"https://www.981park.com/\", \"http://www.sexmuseum.or.kr/\", \n",
    "        \"https://goghs-garden.modoo.at/\", \"https://www.visitjeju.net/kr/detail/view?contentsid=CONT_000000000500497\", \n",
    "        \"https://jeju.museum.go.kr/\", \"\", \"http://www.greekmythology.co.kr/\", \"https://www.981park.com/\", \n",
    "        \"https://www.981park.com/\"\n",
    "    ],\n",
    "    'photo': ['data_2/11.jpg'] * 28\n",
    "}\n",
    "\n",
    "# df3 = pd.DataFrame(data2)\n",
    "# df3.head()  # 상위 5개 항목 확인\n"
   ],
   "id": "51b42f1c6cfe2585",
   "outputs": [],
   "execution_count": 20
  },
  {
   "metadata": {
    "ExecuteTime": {
     "end_time": "2024-11-11T06:06:54.020590Z",
     "start_time": "2024-11-11T06:06:54.014268Z"
    }
   },
   "cell_type": "code",
   "source": [
    "print(len(data3['place']))  # 30이어야 합니다.\n",
    "print(len(data3['address']))  # 30이어야 합니다.\n",
    "print(len(data3['description']))  # 30이어야 합니다.\n",
    "print(len(data3['link']))  # 30이어야 합니다.\n",
    "print(len(data3['photo']))  # 30이어야 합니다."
   ],
   "id": "7e6ca4c3d3660cb7",
   "outputs": [
    {
     "name": "stdout",
     "output_type": "stream",
     "text": [
      "30\n",
      "27\n",
      "30\n",
      "29\n",
      "28\n"
     ]
    }
   ],
   "execution_count": 21
  },
  {
   "metadata": {},
   "cell_type": "code",
   "outputs": [],
   "execution_count": null,
   "source": "",
   "id": "920b8addc93192ee"
  }
 ],
 "metadata": {
  "kernelspec": {
   "display_name": "Python 3",
   "language": "python",
   "name": "python3"
  },
  "language_info": {
   "codemirror_mode": {
    "name": "ipython",
    "version": 2
   },
   "file_extension": ".py",
   "mimetype": "text/x-python",
   "name": "python",
   "nbconvert_exporter": "python",
   "pygments_lexer": "ipython2",
   "version": "2.7.6"
  }
 },
 "nbformat": 4,
 "nbformat_minor": 5
}
