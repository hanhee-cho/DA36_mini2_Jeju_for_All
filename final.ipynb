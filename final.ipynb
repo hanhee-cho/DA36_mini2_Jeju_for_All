{
 "cells": [
  {
   "cell_type": "code",
   "id": "initial_id",
   "metadata": {
    "collapsed": true,
    "ExecuteTime": {
     "end_time": "2024-11-10T08:21:57.993089Z",
     "start_time": "2024-11-10T08:21:57.215151Z"
    }
   },
   "source": [
    "import pandas as pd\n",
    "import numpy as np\n",
    "import matplotlib.pyplot as plt\n",
    "import matplotlib\n",
    "import matplotlib.font_manager as fm\n",
    "from sklearn.preprocessing import LabelEncoder\n",
    "from catboost import Pool\n",
    "from sklearn.model_selection import train_test_split\n",
    "from catboost import CatBoostRegressor\n",
    "import unicodedata\n",
    "from itertools import combinations\n",
    "from sklearn.metrics.pairwise import cosine_similarity\n",
    "from gensim.models import KeyedVectors"
   ],
   "outputs": [],
   "execution_count": 1
  },
  {
   "metadata": {
    "ExecuteTime": {
     "end_time": "2024-11-10T08:33:06.828183Z",
     "start_time": "2024-11-10T08:33:06.803221Z"
    }
   },
   "cell_type": "code",
   "source": [
    "main_df=pd.read_csv('./data/main_data.csv')\n",
    "real_df=pd.read_csv('./data/real_data.csv')\n",
    "ct_sim = pd.read_csv('./data/ct_sim.csv', index_col=0)"
   ],
   "id": "7a2597ab07d38591",
   "outputs": [],
   "execution_count": 4
  },
  {
   "metadata": {},
   "cell_type": "code",
   "source": [
    "real_df['FCLTY_NM'] = real_df['FCLTY_NM'].astype(str)\n",
    "\n",
    "X = real_df[['GENDER', 'AGE_GRP', 'TRAVEL_STYL_5',\n",
    "       'TRAVEL_STYL_6', 'TRAVEL_STYL_7', 'TRAVEL_STYL_8',\n",
    "       'TRAVEL_COMPANIONS_NUM','FCLTY_NM']]\n",
    "y = real_df['DGSTFN']\n",
    "\n",
    "X_train, X_test, y_train, y_test = train_test_split(X,y, test_size=.2)\n",
    "\n",
    "cat_features = ['GENDER', 'AGE_GRP', 'TRAVEL_STYL_5','TRAVEL_STYL_6',\n",
    "                'TRAVEL_STYL_7', 'TRAVEL_STYL_8', 'FCLTY_NM']\n",
    "\n",
    "# 범주형 데이터 처리를 위한 Pool객체 생성\n",
    "X_train_pool = Pool(X_train, y_train, cat_features = cat_features)\n",
    "X_test_pool = Pool(X_test, y_test, cat_features = cat_features)\n",
    "\n",
    "cb_reg = CatBoostRegressor(\n",
    "    n_estimators = 5000,\n",
    "    depth = 5,\n",
    "    learning_rate = .03,\n",
    "    loss_function = 'RMSE',\n",
    "    eval_metric = 'RMSE',\n",
    "    l2_leaf_reg = 10,\n",
    "    early_stopping_rounds = 200,\n",
    "    random_state = 0\n",
    ")\n",
    "cb_reg.fit(X_train_pool, eval_set = X_test_pool, verbose = 100)\n",
    "\n",
    "real_df['FCLTY_NM'] = real_df['FCLTY_NM'].apply(lambda x: unicodedata.normalize('NFKC', str(x)).strip())\n",
    "places = list(real_df['FCLTY_NM'].unique())\n",
    "\n",
    "dgstfn_pred_df = pd.DataFrame(index=X_train.index, columns=places)\n",
    "predicted_dgstfn = cb_reg.predict(X_train_pool)\n",
    "\n",
    "for place in places:\n",
    "    dgstfn_pred_df[place] = predicted_dgstfn"
   ],
   "id": "1dd13ba8d8dd2135",
   "outputs": [],
   "execution_count": null
  },
  {
   "metadata": {
    "ExecuteTime": {
     "end_time": "2024-11-10T08:35:20.468484Z",
     "start_time": "2024-11-10T08:35:20.462666Z"
    }
   },
   "cell_type": "code",
   "source": [
    "def recommend_user_info(gender, age_group, comp_num, styl5, styl6, styl7, styl8):\n",
    "\n",
    "    user_features = pd.DataFrame({\n",
    "        'GENDER': [gender],\n",
    "        'AGE_GRP': [age_group],\n",
    "        'TRAVEL_STYL_5': [styl5],\n",
    "        'TRAVEL_STYL_6': [styl6],\n",
    "        'TRAVEL_STYL_7': [styl7],\n",
    "        'TRAVEL_STYL_8': [styl8],\n",
    "        'TRAVEL_COMPANIONS_NUM': [comp_num]\n",
    "    })\n",
    "\n",
    "    pred_stfn = {}\n",
    "\n",
    "    for place in places:\n",
    "        user_features_place = user_features.copy()  \n",
    "        user_features_place['FCLTY_NM'] = place \n",
    "\n",
    "        user_pool_place = Pool(user_features_place, cat_features=cat_features + ['FCLTY_NM'])\n",
    "        \n",
    "        stfn = cb_reg.predict(user_pool_place)[0]\n",
    "        stfn=round(stfn,3)\n",
    "        pred_stfn[place] = stfn\n",
    "\n",
    "    sorted_recommendations = sorted(pred_stfn.items(), key=lambda x: x[1], reverse=True)\n",
    "    result_df = pd.DataFrame(sorted_recommendations, columns=['FCLTY_NM', 'rate_pred'])\n",
    "    \n",
    "    return result_df"
   ],
   "id": "f6f6818b510fc9ec",
   "outputs": [],
   "execution_count": 14
  },
  {
   "metadata": {
    "ExecuteTime": {
     "end_time": "2024-11-10T08:35:21.323223Z",
     "start_time": "2024-11-10T08:35:21.316641Z"
    }
   },
   "cell_type": "code",
   "source": [
    "def recommend_category(selected_category, ct_sim, main_df):\n",
    "    # 선택된 카테고리의 유사도 순으로 정렬\n",
    "    sim_scores = ct_sim[selected_category].sort_values(ascending=False)\n",
    "    recommended_places = []  # 추천할 장소 리스트\n",
    "    category_similarity = {}  # 추천 장소와 유사도 저장할 딕셔너리\n",
    "\n",
    "    # 유사도가 높은 카테고리부터 장소 추천\n",
    "    for category in sim_scores.index:  \n",
    "        facilities = main_df[main_df['CTGRY_TWO_NM'] == category]['FCLTY_NM']\n",
    "\n",
    "        for fclty in facilities:\n",
    "            if fclty not in recommended_places:  # 중복된 장소 제외\n",
    "                recommended_places.append(fclty)\n",
    "                # 선택된 카테고리와 유사 카테고리의 유사도 저장\n",
    "                similarity = ct_sim[selected_category][category]\n",
    "                similarity=round(similarity,3)\n",
    "                if similarity==1.000:\n",
    "                    similarity=0.700\n",
    "                category_similarity[fclty] = similarity\n",
    "                \n",
    "    # 추천 장소와 유사도를 데이터프레임으로 변환\n",
    "    recommendations_df = pd.DataFrame(list(category_similarity.items()), columns=['FCLTY_NM', 'similarity'])\n",
    "    return recommendations_df"
   ],
   "id": "32f2e1ed7346bb92",
   "outputs": [],
   "execution_count": 15
  },
  {
   "metadata": {
    "ExecuteTime": {
     "end_time": "2024-11-10T08:35:24.447142Z",
     "start_time": "2024-11-10T08:35:24.441035Z"
    }
   },
   "cell_type": "code",
   "source": [
    "def combine_recommend(gender, age_group, comp_num, styl5, styl6, styl7, styl8, selected_category, ct_sim, main_df):\n",
    "    user_info = recommend_user_info(gender, age_group, comp_num, styl5, styl6, styl7, styl8)\n",
    "    category = recommend_category(selected_category, ct_sim, main_df)\n",
    "    # 유사도에 맞추어 평점 정규화 (1~5) -> (0~1)\n",
    "    user_info['rate_pred_normalized'] = (user_info['rate_pred'] - 1) / (5 - 1)\n",
    "\n",
    "    combined_df = pd.merge(user_info, category, on='FCLTY_NM', how='inner')\n",
    "    combined_df['final_score'] = combined_df['rate_pred_normalized'] * 0.8 + combined_df['similarity'] * 0.2\n",
    "    combined_df = combined_df.sort_values(by='final_score', ascending=False).reset_index(drop=True)\n",
    "\n",
    "    return combined_df"
   ],
   "id": "50a5b8f1e15ae859",
   "outputs": [],
   "execution_count": 17
  },
  {
   "metadata": {
    "ExecuteTime": {
     "end_time": "2024-11-10T08:35:31.503464Z",
     "start_time": "2024-11-10T08:35:31.497255Z"
    }
   },
   "cell_type": "code",
   "source": [
    "def final_recommend(gender, age_group, comp_num, styl5, styl6, styl7, styl8, selected_category, ct_sim, main_df,\n",
    "                            filter_dspsn_prkplce_at=False, filter_dspsn_toilet_at=False, filter_wchair_hold_at=False,\n",
    "                            filter_guid_dog_acp_posbl_at=False, filter_brll_guid_at=False, filter_klang_vic_guid_at=False):\n",
    "    \n",
    "    barrier_free= [\n",
    "        'DSPSN_PRKPLCE_AT',      # 장애인 주차장 여부\n",
    "        'DSPSN_TOILET_AT',       # 장애인 화장실 여부\n",
    "        'WCHAIR_HOLD_AT',        # 휠체어 보유 여부\n",
    "        'GUID_DOG_ACP_POSBL_AT', # 안내견 출입 가능 여부\n",
    "        'BRLL_GUID_AT',          # 점자 안내 여부\n",
    "        'KLANG_VIC_GUID_AT'      # 한국어 음성 안내 여부\n",
    "    ]\n",
    "\n",
    "    recommendations = combine_recommend(gender, age_group, comp_num, styl5, styl6, styl7, styl8, selected_category, ct_sim, main_df)\n",
    "    # final_recommendations와 main_df를 병합하여 배리어 프리 정보 추가\n",
    "    combined_df = pd.merge(recommendations, main_df[['FCLTY_NM'] + barrier_free], on='FCLTY_NM', how='left')\n",
    "\n",
    "    # 조건에 맞춰 필터링 적용 (True인 것만 필터링)\n",
    "    if filter_brll_guid_at:\n",
    "        idx = combined_df[combined_df['BRLL_GUID_AT'] == 0].index\n",
    "        combined_df = combined_df.drop(idx)\n",
    "        combined_df.reset_index(drop=True, inplace=True)\n",
    "\n",
    "    if filter_guid_dog_acp_posbl_at:\n",
    "        idx = combined_df[combined_df['GUID_DOG_ACP_POSBL_AT'] == 0].index\n",
    "        combined_df = combined_df.drop(idx)\n",
    "        combined_df.reset_index(drop=True, inplace=True)\n",
    "\n",
    "    if filter_dspsn_toilet_at:\n",
    "        idx = combined_df[combined_df['DSPSN_TOILET_AT'] == 0].index\n",
    "        combined_df = combined_df.drop(idx)\n",
    "        combined_df.reset_index(drop=True, inplace=True)\n",
    "\n",
    "    if filter_wchair_hold_at:\n",
    "        idx = combined_df[combined_df['WCHAIR_HOLD_AT'] == 0].index\n",
    "        combined_df = combined_df.drop(idx)\n",
    "        combined_df.reset_index(drop=True, inplace=True)\n",
    "\n",
    "    if filter_dspsn_prkplce_at:\n",
    "        idx = combined_df[combined_df['DSPSN_PRKPLCE_AT'] == 0].index\n",
    "        combined_df = combined_df.drop(idx)\n",
    "        combined_df.reset_index(drop=True, inplace=True)\n",
    "\n",
    "    if filter_klang_vic_guid_at:\n",
    "        idx = combined_df[combined_df['KLANG_VIC_GUID_AT'] == 0].index\n",
    "        combined_df = combined_df.drop(idx)\n",
    "        combined_df.reset_index(drop=True, inplace=True)\n",
    "\n",
    "    # 중복된 장소 이름을 제거하고, 상위 10개 추천 장소 선택\n",
    "    filtered_recommendations = combined_df.drop_duplicates(subset='FCLTY_NM')['FCLTY_NM'].head(10).reset_index(drop=True)\n",
    "\n",
    "    return filtered_recommendations"
   ],
   "id": "6949b86a0c2a34e9",
   "outputs": [],
   "execution_count": 19
  },
  {
   "metadata": {},
   "cell_type": "code",
   "source": [
    "final_recommend(0, 20, 3, 7, 4, 5, 6, '관광지', ct_sim, main_df,\n",
    "                            filter_dspsn_prkplce_at=True, filter_dspsn_toilet_at=True, filter_wchair_hold_at=False,\n",
    "                            filter_guid_dog_acp_posbl_at=False, filter_brll_guid_at=False, filter_klang_vic_guid_at=False)"
   ],
   "id": "e92175cc0a2182bf",
   "outputs": [],
   "execution_count": null
  },
  {
   "metadata": {},
   "cell_type": "code",
   "source": [
    "final_recommend(0, 50, 1, 3, 2, 6, 2, '전시/기념관', ct_sim, main_df,\n",
    "                            filter_dspsn_prkplce_at=False, filter_dspsn_toilet_at=False, filter_wchair_hold_at=False,\n",
    "                            filter_guid_dog_acp_posbl_at=True, filter_brll_guid_at=True, filter_klang_vic_guid_at=False)"
   ],
   "id": "e641da5f34328745",
   "outputs": [],
   "execution_count": null
  }
 ],
 "metadata": {
  "kernelspec": {
   "display_name": "Python 3",
   "language": "python",
   "name": "python3"
  },
  "language_info": {
   "codemirror_mode": {
    "name": "ipython",
    "version": 2
   },
   "file_extension": ".py",
   "mimetype": "text/x-python",
   "name": "python",
   "nbconvert_exporter": "python",
   "pygments_lexer": "ipython2",
   "version": "2.7.6"
  }
 },
 "nbformat": 4,
 "nbformat_minor": 5
}
